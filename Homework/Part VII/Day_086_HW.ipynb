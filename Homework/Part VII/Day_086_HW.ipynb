{
 "cells": [
  {
   "cell_type": "markdown",
   "metadata": {},
   "source": [
    "## Work\n",
    "1. 試比較 save_best_only 與否的差異\n",
    "2. 請僅存入將 save_weights_only 設定為 True, 並嘗試 reset ipynb 並將模型與權重重新建回並預測 x_test"
   ]
  },
  {
   "cell_type": "markdown",
   "metadata": {},
   "source": [
    "### Reference\n",
    "* https://machinelearningmastery.com/check-point-deep-learning-models-keras/\n",
    "* https://github.com/keras-team/keras/blob/master/keras/callbacks.py#L633"
   ]
  },
  {
   "cell_type": "code",
   "execution_count": 1,
   "metadata": {},
   "outputs": [
    {
     "name": "stderr",
     "output_type": "stream",
     "text": [
      "Using TensorFlow backend.\n"
     ]
    }
   ],
   "source": [
    "import os\n",
    "import keras\n",
    "\n",
    "# Disable GPU\n",
    "os.environ[\"CUDA_VISIBLE_DEVICES\"] = \"\""
   ]
  },
  {
   "cell_type": "code",
   "execution_count": 2,
   "metadata": {},
   "outputs": [],
   "source": [
    "train, test = keras.datasets.cifar10.load_data()"
   ]
  },
  {
   "cell_type": "code",
   "execution_count": 3,
   "metadata": {},
   "outputs": [],
   "source": [
    "## 資料前處理\n",
    "def preproc_x(x, flatten=True):\n",
    "    x = x / 255.\n",
    "    if flatten:\n",
    "        x = x.reshape((len(x), -1))\n",
    "    return x\n",
    "\n",
    "def preproc_y(y, num_classes=10):\n",
    "    if y.shape[-1] == 1:\n",
    "        y = keras.utils.to_categorical(y, num_classes)\n",
    "    return y    "
   ]
  },
  {
   "cell_type": "code",
   "execution_count": 4,
   "metadata": {},
   "outputs": [],
   "source": [
    "x_train, y_train = train\n",
    "x_test, y_test = test\n",
    "\n",
    "# Preproc the inputs\n",
    "x_train = preproc_x(x_train)\n",
    "x_test = preproc_x(x_test)\n",
    "\n",
    "# Preprc the outputs\n",
    "y_train = preproc_y(y_train)\n",
    "y_test = preproc_y(y_test)"
   ]
  },
  {
   "cell_type": "code",
   "execution_count": 5,
   "metadata": {},
   "outputs": [],
   "source": [
    "from keras.layers import BatchNormalization\n",
    "def build_mlp(input_shape, output_units=10, num_neurons=[512, 256, 128]):\n",
    "    input_layer = keras.layers.Input(input_shape)\n",
    "    \n",
    "    for i, n_units in enumerate(num_neurons):\n",
    "        if i == 0:\n",
    "            x = keras.layers.Dense(units=n_units, \n",
    "                                   activation=\"relu\", \n",
    "                                   name=\"hidden_layer\"+str(i+1))(input_layer)\n",
    "            x = BatchNormalization()(x)\n",
    "        else:\n",
    "            x = keras.layers.Dense(units=n_units, \n",
    "                                   activation=\"relu\", \n",
    "                                   name=\"hidden_layer\"+str(i+1))(x)\n",
    "            x = BatchNormalization()(x)\n",
    "    \n",
    "    out = keras.layers.Dense(units=output_units, activation=\"softmax\", name=\"output\")(x)\n",
    "    \n",
    "    model = keras.models.Model(inputs=[input_layer], outputs=[out])\n",
    "    return model"
   ]
  },
  {
   "cell_type": "code",
   "execution_count": 6,
   "metadata": {},
   "outputs": [],
   "source": [
    "## 超參數設定\n",
    "LEARNING_RATE = 1e-3\n",
    "EPOCHS = 50\n",
    "BATCH_SIZE = 1024\n",
    "MOMENTUM = 0.95"
   ]
  },
  {
   "cell_type": "markdown",
   "metadata": {},
   "source": [
    "## 試比較 save_best_only 與否的差異"
   ]
  },
  {
   "cell_type": "code",
   "execution_count": 7,
   "metadata": {},
   "outputs": [],
   "source": [
    "# 載入 Callbacks\n",
    "from keras.callbacks import ModelCheckpoint\n",
    "\n",
    "model_ckpt = ModelCheckpoint(filepath=\"./tmp.h5\", \n",
    "                             monitor=\"val_loss\", \n",
    "                             save_best_only=False)"
   ]
  },
  {
   "cell_type": "code",
   "execution_count": 8,
   "metadata": {
    "scrolled": false
   },
   "outputs": [
    {
     "name": "stdout",
     "output_type": "stream",
     "text": [
      "_________________________________________________________________\n",
      "Layer (type)                 Output Shape              Param #   \n",
      "=================================================================\n",
      "input_1 (InputLayer)         (None, 3072)              0         \n",
      "_________________________________________________________________\n",
      "hidden_layer1 (Dense)        (None, 512)               1573376   \n",
      "_________________________________________________________________\n",
      "batch_normalization_1 (Batch (None, 512)               2048      \n",
      "_________________________________________________________________\n",
      "hidden_layer2 (Dense)        (None, 256)               131328    \n",
      "_________________________________________________________________\n",
      "batch_normalization_2 (Batch (None, 256)               1024      \n",
      "_________________________________________________________________\n",
      "hidden_layer3 (Dense)        (None, 128)               32896     \n",
      "_________________________________________________________________\n",
      "batch_normalization_3 (Batch (None, 128)               512       \n",
      "_________________________________________________________________\n",
      "output (Dense)               (None, 10)                1290      \n",
      "=================================================================\n",
      "Total params: 1,742,474\n",
      "Trainable params: 1,740,682\n",
      "Non-trainable params: 1,792\n",
      "_________________________________________________________________\n",
      "Train on 50000 samples, validate on 10000 samples\n",
      "Epoch 1/50\n",
      "50000/50000 [==============================] - 13s 252us/step - loss: 2.2038 - acc: 0.2746 - val_loss: 2.0843 - val_acc: 0.3333\n",
      "Epoch 2/50\n",
      "50000/50000 [==============================] - 7s 138us/step - loss: 1.7399 - acc: 0.3896 - val_loss: 1.8172 - val_acc: 0.3760\n",
      "Epoch 3/50\n",
      "50000/50000 [==============================] - 7s 139us/step - loss: 1.6156 - acc: 0.4322 - val_loss: 1.6990 - val_acc: 0.4042\n",
      "Epoch 4/50\n",
      "50000/50000 [==============================] - 7s 146us/step - loss: 1.5429 - acc: 0.4565 - val_loss: 1.6460 - val_acc: 0.4297\n",
      "Epoch 5/50\n",
      "50000/50000 [==============================] - 7s 144us/step - loss: 1.4897 - acc: 0.4773 - val_loss: 1.5960 - val_acc: 0.4384\n",
      "Epoch 6/50\n",
      "50000/50000 [==============================] - 8s 151us/step - loss: 1.4470 - acc: 0.4930 - val_loss: 1.5718 - val_acc: 0.4493\n",
      "Epoch 7/50\n",
      "50000/50000 [==============================] - 8s 151us/step - loss: 1.4076 - acc: 0.5097 - val_loss: 1.5451 - val_acc: 0.4595\n",
      "Epoch 8/50\n",
      "50000/50000 [==============================] - 7s 144us/step - loss: 1.3708 - acc: 0.5215 - val_loss: 1.5360 - val_acc: 0.4589\n",
      "Epoch 9/50\n",
      "50000/50000 [==============================] - 7s 143us/step - loss: 1.3401 - acc: 0.5319 - val_loss: 1.5118 - val_acc: 0.4743\n",
      "Epoch 10/50\n",
      "50000/50000 [==============================] - 7s 145us/step - loss: 1.3070 - acc: 0.5438 - val_loss: 1.5052 - val_acc: 0.4744\n",
      "Epoch 11/50\n",
      "50000/50000 [==============================] - 7s 140us/step - loss: 1.2793 - acc: 0.5542 - val_loss: 1.4971 - val_acc: 0.4755\n",
      "Epoch 12/50\n",
      "50000/50000 [==============================] - 7s 142us/step - loss: 1.2532 - acc: 0.5660 - val_loss: 1.4902 - val_acc: 0.4799\n",
      "Epoch 13/50\n",
      "50000/50000 [==============================] - 7s 134us/step - loss: 1.2260 - acc: 0.5735 - val_loss: 1.4939 - val_acc: 0.4787\n",
      "Epoch 14/50\n",
      "50000/50000 [==============================] - 7s 138us/step - loss: 1.2035 - acc: 0.5831 - val_loss: 1.4778 - val_acc: 0.4832\n",
      "Epoch 15/50\n",
      "50000/50000 [==============================] - 7s 136us/step - loss: 1.1766 - acc: 0.5941 - val_loss: 1.4733 - val_acc: 0.4830\n",
      "Epoch 16/50\n",
      "50000/50000 [==============================] - 7s 137us/step - loss: 1.1522 - acc: 0.6030 - val_loss: 1.4712 - val_acc: 0.4866\n",
      "Epoch 17/50\n",
      "50000/50000 [==============================] - 7s 135us/step - loss: 1.1283 - acc: 0.6130 - val_loss: 1.4629 - val_acc: 0.4906\n",
      "Epoch 18/50\n",
      "50000/50000 [==============================] - 7s 134us/step - loss: 1.1070 - acc: 0.6197 - val_loss: 1.4723 - val_acc: 0.4953\n",
      "Epoch 19/50\n",
      "50000/50000 [==============================] - 7s 134us/step - loss: 1.0827 - acc: 0.6283 - val_loss: 1.4645 - val_acc: 0.4921\n",
      "Epoch 20/50\n",
      "50000/50000 [==============================] - 7s 134us/step - loss: 1.0598 - acc: 0.6380 - val_loss: 1.4659 - val_acc: 0.4887\n",
      "Epoch 21/50\n",
      "50000/50000 [==============================] - 7s 134us/step - loss: 1.0387 - acc: 0.6463 - val_loss: 1.4640 - val_acc: 0.4963\n",
      "Epoch 22/50\n",
      "50000/50000 [==============================] - 7s 139us/step - loss: 1.0170 - acc: 0.6549 - val_loss: 1.4820 - val_acc: 0.4894\n",
      "Epoch 23/50\n",
      "50000/50000 [==============================] - 7s 135us/step - loss: 0.9946 - acc: 0.6608 - val_loss: 1.4731 - val_acc: 0.4919\n",
      "Epoch 24/50\n",
      "50000/50000 [==============================] - 7s 135us/step - loss: 0.9753 - acc: 0.6700 - val_loss: 1.4682 - val_acc: 0.4933\n",
      "Epoch 25/50\n",
      "50000/50000 [==============================] - 7s 136us/step - loss: 0.9538 - acc: 0.6787 - val_loss: 1.4845 - val_acc: 0.4912\n",
      "Epoch 26/50\n",
      "50000/50000 [==============================] - 7s 136us/step - loss: 0.9316 - acc: 0.6893 - val_loss: 1.4844 - val_acc: 0.4939\n",
      "Epoch 27/50\n",
      "50000/50000 [==============================] - 7s 135us/step - loss: 0.9116 - acc: 0.6945 - val_loss: 1.4977 - val_acc: 0.4937\n",
      "Epoch 28/50\n",
      "50000/50000 [==============================] - 7s 134us/step - loss: 0.8914 - acc: 0.7064 - val_loss: 1.5026 - val_acc: 0.4929\n",
      "Epoch 29/50\n",
      "50000/50000 [==============================] - 7s 135us/step - loss: 0.8706 - acc: 0.7126 - val_loss: 1.4823 - val_acc: 0.4956\n",
      "Epoch 30/50\n",
      "50000/50000 [==============================] - 7s 135us/step - loss: 0.8505 - acc: 0.7211 - val_loss: 1.5052 - val_acc: 0.4910\n",
      "Epoch 31/50\n",
      "50000/50000 [==============================] - 7s 135us/step - loss: 0.8299 - acc: 0.7285 - val_loss: 1.4957 - val_acc: 0.4972\n",
      "Epoch 32/50\n",
      "50000/50000 [==============================] - 7s 135us/step - loss: 0.8099 - acc: 0.7363 - val_loss: 1.5082 - val_acc: 0.4961\n",
      "Epoch 33/50\n",
      "50000/50000 [==============================] - 7s 137us/step - loss: 0.7904 - acc: 0.7457 - val_loss: 1.5160 - val_acc: 0.4968\n",
      "Epoch 34/50\n",
      "50000/50000 [==============================] - 7s 134us/step - loss: 0.7688 - acc: 0.7540 - val_loss: 1.5209 - val_acc: 0.4923\n",
      "Epoch 35/50\n",
      "50000/50000 [==============================] - 7s 137us/step - loss: 0.7509 - acc: 0.7600 - val_loss: 1.5306 - val_acc: 0.4920\n",
      "Epoch 36/50\n",
      "50000/50000 [==============================] - 7s 136us/step - loss: 0.7309 - acc: 0.7687 - val_loss: 1.5542 - val_acc: 0.4873\n",
      "Epoch 37/50\n",
      "50000/50000 [==============================] - 7s 136us/step - loss: 0.7126 - acc: 0.7743 - val_loss: 1.5446 - val_acc: 0.4930\n",
      "Epoch 38/50\n",
      "50000/50000 [==============================] - 7s 135us/step - loss: 0.6930 - acc: 0.7827 - val_loss: 1.5705 - val_acc: 0.4916\n",
      "Epoch 39/50\n",
      "50000/50000 [==============================] - 7s 136us/step - loss: 0.6746 - acc: 0.7924 - val_loss: 1.5652 - val_acc: 0.4881\n",
      "Epoch 40/50\n",
      "50000/50000 [==============================] - 7s 135us/step - loss: 0.6540 - acc: 0.7998 - val_loss: 1.5790 - val_acc: 0.4920\n",
      "Epoch 41/50\n",
      "50000/50000 [==============================] - 7s 138us/step - loss: 0.6349 - acc: 0.8080 - val_loss: 1.5912 - val_acc: 0.4863\n",
      "Epoch 42/50\n",
      "50000/50000 [==============================] - 7s 146us/step - loss: 0.6185 - acc: 0.8127 - val_loss: 1.6010 - val_acc: 0.4943\n",
      "Epoch 43/50\n",
      "50000/50000 [==============================] - 7s 138us/step - loss: 0.6005 - acc: 0.8214 - val_loss: 1.6015 - val_acc: 0.4951\n",
      "Epoch 44/50\n",
      "50000/50000 [==============================] - 7s 139us/step - loss: 0.5818 - acc: 0.8293 - val_loss: 1.6209 - val_acc: 0.4895\n",
      "Epoch 45/50\n",
      "50000/50000 [==============================] - 7s 135us/step - loss: 0.5637 - acc: 0.8369 - val_loss: 1.6528 - val_acc: 0.4833\n",
      "Epoch 46/50\n",
      "50000/50000 [==============================] - 7s 135us/step - loss: 0.5485 - acc: 0.8404 - val_loss: 1.6345 - val_acc: 0.4888\n",
      "Epoch 47/50\n",
      "50000/50000 [==============================] - 7s 135us/step - loss: 0.5286 - acc: 0.8496 - val_loss: 1.6697 - val_acc: 0.4882\n",
      "Epoch 48/50\n",
      "50000/50000 [==============================] - 7s 135us/step - loss: 0.5151 - acc: 0.8551 - val_loss: 1.6677 - val_acc: 0.4883\n",
      "Epoch 49/50\n",
      "50000/50000 [==============================] - 7s 133us/step - loss: 0.4964 - acc: 0.8617 - val_loss: 1.7156 - val_acc: 0.4831\n",
      "Epoch 50/50\n",
      "50000/50000 [==============================] - 7s 133us/step - loss: 0.4804 - acc: 0.8673 - val_loss: 1.7197 - val_acc: 0.4866\n",
      "10000/10000 [==============================] - 1s 116us/step\n"
     ]
    }
   ],
   "source": [
    "\"\"\"\n",
    "Write your training loop and show the results\n",
    "\"\"\"\n",
    "model = build_mlp(input_shape=x_train.shape[1:])\n",
    "model.summary()\n",
    "optimizer = keras.optimizers.SGD(lr=LEARNING_RATE, nesterov=True, momentum=MOMENTUM)\n",
    "model.compile(loss=\"categorical_crossentropy\", metrics=[\"accuracy\"], optimizer=optimizer)\n",
    "\n",
    "model.fit(x_train, y_train, \n",
    "          epochs=EPOCHS, \n",
    "          batch_size=BATCH_SIZE, \n",
    "          validation_data=(x_test, y_test), \n",
    "          shuffle=True,\n",
    "          callbacks=[model_ckpt]\n",
    "         )\n",
    "\n",
    "# Collect results\n",
    "train_loss = model.history.history[\"loss\"]\n",
    "valid_loss = model.history.history[\"val_loss\"]\n",
    "train_acc = model.history.history[\"acc\"]\n",
    "valid_acc = model.history.history[\"val_acc\"]\n",
    "\n",
    "# Load back\n",
    "model = keras.models.load_model(\"./tmp.h5\")\n",
    "loss_loadback, acc_loadback = model.evaluate(x_test, y_test)"
   ]
  },
  {
   "cell_type": "code",
   "execution_count": null,
   "metadata": {},
   "outputs": [],
   "source": []
  },
  {
   "cell_type": "code",
   "execution_count": 9,
   "metadata": {},
   "outputs": [
    {
     "data": {
      "image/png": "[encoded data removed]",
      "text/plain": [
       "<Figure size 432x288 with 1 Axes>"
      ]
     },
     "metadata": {},
     "output_type": "display_data"
    },
    {
     "data": {
      "image/png": "[encoded data removed]",
      "text/plain": [
       "<Figure size 432x288 with 1 Axes>"
      ]
     },
     "metadata": {},
     "output_type": "display_data"
    }
   ],
   "source": [
    "import matplotlib.pyplot as plt\n",
    "%matplotlib inline\n",
    "\n",
    "plt.plot(range(len(train_loss)), train_loss, label=\"train loss\")\n",
    "plt.plot(range(len(valid_loss)), valid_loss, label=\"valid loss\")\n",
    "plt.hlines(y=loss_loadback, xmin=0, xmax=len(train_loss), colors='r', linestyles='--')\n",
    "plt.legend()\n",
    "plt.title(\"Loss\")\n",
    "plt.show()\n",
    "\n",
    "plt.plot(range(len(train_acc)), train_acc, label=\"train accuracy\")\n",
    "plt.plot(range(len(valid_acc)), valid_acc, label=\"valid accuracy\")\n",
    "plt.hlines(y=acc_loadback, xmin=0, xmax=len(train_loss), colors='r', linestyles='--')\n",
    "plt.legend()\n",
    "plt.title(\"Accuracy\")\n",
    "plt.show()"
   ]
  },
  {
   "cell_type": "code",
   "execution_count": 10,
   "metadata": {},
   "outputs": [],
   "source": [
    "# 載入 Callbacks\n",
    "from keras.callbacks import ModelCheckpoint\n",
    "\n",
    "model_ckpt = ModelCheckpoint(filepath=\"./tmp.h5\", \n",
    "                             monitor=\"val_loss\", \n",
    "                             save_best_only=True)"
   ]
  },
  {
   "cell_type": "code",
   "execution_count": 11,
   "metadata": {},
   "outputs": [
    {
     "name": "stdout",
     "output_type": "stream",
     "text": [
      "_________________________________________________________________\n",
      "Layer (type)                 Output Shape              Param #   \n",
      "=================================================================\n",
      "input_2 (InputLayer)         (None, 3072)              0         \n",
      "_________________________________________________________________\n",
      "hidden_layer1 (Dense)        (None, 512)               1573376   \n",
      "_________________________________________________________________\n",
      "batch_normalization_4 (Batch (None, 512)               2048      \n",
      "_________________________________________________________________\n",
      "hidden_layer2 (Dense)        (None, 256)               131328    \n",
      "_________________________________________________________________\n",
      "batch_normalization_5 (Batch (None, 256)               1024      \n",
      "_________________________________________________________________\n",
      "hidden_layer3 (Dense)        (None, 128)               32896     \n",
      "_________________________________________________________________\n",
      "batch_normalization_6 (Batch (None, 128)               512       \n",
      "_________________________________________________________________\n",
      "output (Dense)               (None, 10)                1290      \n",
      "=================================================================\n",
      "Total params: 1,742,474\n",
      "Trainable params: 1,740,682\n",
      "Non-trainable params: 1,792\n",
      "_________________________________________________________________\n",
      "Train on 50000 samples, validate on 10000 samples\n",
      "Epoch 1/50\n",
      "50000/50000 [==============================] - 8s 154us/step - loss: 2.1820 - acc: 0.2769 - val_loss: 2.0846 - val_acc: 0.3273\n",
      "Epoch 2/50\n",
      "50000/50000 [==============================] - 7s 137us/step - loss: 1.7412 - acc: 0.3964 - val_loss: 1.7917 - val_acc: 0.3820\n",
      "Epoch 3/50\n",
      "50000/50000 [==============================] - 7s 136us/step - loss: 1.6192 - acc: 0.4346 - val_loss: 1.7047 - val_acc: 0.4113\n",
      "Epoch 4/50\n",
      "50000/50000 [==============================] - 7s 134us/step - loss: 1.5478 - acc: 0.4603 - val_loss: 1.6340 - val_acc: 0.4310\n",
      "Epoch 5/50\n",
      "50000/50000 [==============================] - 7s 133us/step - loss: 1.4924 - acc: 0.4785 - val_loss: 1.5921 - val_acc: 0.4407\n",
      "Epoch 6/50\n",
      "50000/50000 [==============================] - 7s 134us/step - loss: 1.4457 - acc: 0.4975 - val_loss: 1.5709 - val_acc: 0.4472\n",
      "Epoch 7/50\n",
      "50000/50000 [==============================] - 7s 134us/step - loss: 1.4045 - acc: 0.5117 - val_loss: 1.5429 - val_acc: 0.4563\n",
      "Epoch 8/50\n",
      "50000/50000 [==============================] - 7s 134us/step - loss: 1.3701 - acc: 0.5238 - val_loss: 1.5308 - val_acc: 0.4606\n",
      "Epoch 9/50\n",
      "50000/50000 [==============================] - 7s 133us/step - loss: 1.3362 - acc: 0.5358 - val_loss: 1.5099 - val_acc: 0.4696\n",
      "Epoch 10/50\n",
      "50000/50000 [==============================] - 7s 133us/step - loss: 1.3050 - acc: 0.5480 - val_loss: 1.5064 - val_acc: 0.4714\n",
      "Epoch 11/50\n",
      "50000/50000 [==============================] - 7s 134us/step - loss: 1.2758 - acc: 0.5570 - val_loss: 1.4896 - val_acc: 0.4766\n",
      "Epoch 12/50\n",
      "50000/50000 [==============================] - 7s 135us/step - loss: 1.2469 - acc: 0.5696 - val_loss: 1.4950 - val_acc: 0.4782\n",
      "Epoch 13/50\n",
      "50000/50000 [==============================] - 7s 135us/step - loss: 1.2217 - acc: 0.5787 - val_loss: 1.4848 - val_acc: 0.4820\n",
      "Epoch 14/50\n",
      "50000/50000 [==============================] - 7s 135us/step - loss: 1.1968 - acc: 0.5886 - val_loss: 1.4753 - val_acc: 0.4815\n",
      "Epoch 15/50\n",
      "50000/50000 [==============================] - 7s 134us/step - loss: 1.1719 - acc: 0.5985 - val_loss: 1.4728 - val_acc: 0.4855\n",
      "Epoch 16/50\n",
      "50000/50000 [==============================] - 7s 135us/step - loss: 1.1484 - acc: 0.6065 - val_loss: 1.4723 - val_acc: 0.4852\n",
      "Epoch 17/50\n",
      "50000/50000 [==============================] - 7s 134us/step - loss: 1.1256 - acc: 0.6153 - val_loss: 1.4836 - val_acc: 0.4825\n",
      "Epoch 18/50\n",
      "50000/50000 [==============================] - 7s 134us/step - loss: 1.1026 - acc: 0.6247 - val_loss: 1.4783 - val_acc: 0.4876\n",
      "Epoch 19/50\n",
      "50000/50000 [==============================] - 7s 134us/step - loss: 1.0821 - acc: 0.6327 - val_loss: 1.4733 - val_acc: 0.4855\n",
      "Epoch 20/50\n",
      "50000/50000 [==============================] - 7s 135us/step - loss: 1.0580 - acc: 0.6414 - val_loss: 1.4674 - val_acc: 0.4933\n",
      "Epoch 21/50\n",
      "50000/50000 [==============================] - 7s 134us/step - loss: 1.0349 - acc: 0.6517 - val_loss: 1.4665 - val_acc: 0.4959\n",
      "Epoch 22/50\n",
      "50000/50000 [==============================] - 7s 135us/step - loss: 1.0152 - acc: 0.6583 - val_loss: 1.4681 - val_acc: 0.4936\n",
      "Epoch 23/50\n",
      "50000/50000 [==============================] - 7s 134us/step - loss: 0.9940 - acc: 0.6671 - val_loss: 1.4737 - val_acc: 0.4906\n",
      "Epoch 24/50\n",
      "50000/50000 [==============================] - 7s 134us/step - loss: 0.9725 - acc: 0.6747 - val_loss: 1.4713 - val_acc: 0.4969\n",
      "Epoch 25/50\n",
      "50000/50000 [==============================] - 7s 134us/step - loss: 0.9503 - acc: 0.6845 - val_loss: 1.4756 - val_acc: 0.4968\n",
      "Epoch 26/50\n",
      "50000/50000 [==============================] - 7s 137us/step - loss: 0.9298 - acc: 0.6918 - val_loss: 1.4833 - val_acc: 0.4880\n",
      "Epoch 27/50\n",
      "50000/50000 [==============================] - 7s 135us/step - loss: 0.9088 - acc: 0.6991 - val_loss: 1.4857 - val_acc: 0.4972\n",
      "Epoch 28/50\n",
      "50000/50000 [==============================] - 7s 134us/step - loss: 0.8891 - acc: 0.7073 - val_loss: 1.4990 - val_acc: 0.4927\n",
      "Epoch 29/50\n",
      "50000/50000 [==============================] - 7s 135us/step - loss: 0.8699 - acc: 0.7152 - val_loss: 1.4956 - val_acc: 0.4984\n",
      "Epoch 30/50\n",
      "50000/50000 [==============================] - 7s 134us/step - loss: 0.8478 - acc: 0.7235 - val_loss: 1.5113 - val_acc: 0.4924\n",
      "Epoch 31/50\n",
      "50000/50000 [==============================] - 7s 134us/step - loss: 0.8281 - acc: 0.7324 - val_loss: 1.4985 - val_acc: 0.4943\n",
      "Epoch 32/50\n",
      "50000/50000 [==============================] - 7s 137us/step - loss: 0.8099 - acc: 0.7380 - val_loss: 1.5084 - val_acc: 0.4954\n",
      "Epoch 33/50\n",
      "50000/50000 [==============================] - 7s 136us/step - loss: 0.7888 - acc: 0.7462 - val_loss: 1.5395 - val_acc: 0.4908\n",
      "Epoch 34/50\n",
      "50000/50000 [==============================] - 7s 134us/step - loss: 0.7694 - acc: 0.7548 - val_loss: 1.5319 - val_acc: 0.4942\n",
      "Epoch 35/50\n",
      "50000/50000 [==============================] - 7s 133us/step - loss: 0.7495 - acc: 0.7613 - val_loss: 1.5304 - val_acc: 0.4931\n",
      "Epoch 36/50\n",
      "50000/50000 [==============================] - 7s 133us/step - loss: 0.7304 - acc: 0.7694 - val_loss: 1.5625 - val_acc: 0.4860\n",
      "Epoch 37/50\n",
      "50000/50000 [==============================] - 7s 134us/step - loss: 0.7128 - acc: 0.7762 - val_loss: 1.5960 - val_acc: 0.4866\n",
      "Epoch 38/50\n",
      "50000/50000 [==============================] - 7s 133us/step - loss: 0.6935 - acc: 0.7841 - val_loss: 1.5633 - val_acc: 0.4897\n",
      "Epoch 39/50\n",
      "50000/50000 [==============================] - 7s 133us/step - loss: 0.6745 - acc: 0.7898 - val_loss: 1.6139 - val_acc: 0.4796\n",
      "Epoch 40/50\n",
      "50000/50000 [==============================] - 7s 133us/step - loss: 0.6566 - acc: 0.7985 - val_loss: 1.5907 - val_acc: 0.4878\n",
      "Epoch 41/50\n",
      "50000/50000 [==============================] - 7s 133us/step - loss: 0.6392 - acc: 0.8054 - val_loss: 1.6018 - val_acc: 0.4937\n",
      "Epoch 42/50\n",
      "50000/50000 [==============================] - 7s 135us/step - loss: 0.6184 - acc: 0.8137 - val_loss: 1.6075 - val_acc: 0.4917\n",
      "Epoch 43/50\n",
      "50000/50000 [==============================] - 7s 134us/step - loss: 0.6028 - acc: 0.8200 - val_loss: 1.6422 - val_acc: 0.4839\n",
      "Epoch 44/50\n",
      "50000/50000 [==============================] - 7s 134us/step - loss: 0.5868 - acc: 0.8245 - val_loss: 1.6510 - val_acc: 0.4836\n",
      "Epoch 45/50\n",
      "50000/50000 [==============================] - 7s 134us/step - loss: 0.5700 - acc: 0.8327 - val_loss: 1.6529 - val_acc: 0.4854\n",
      "Epoch 46/50\n",
      "50000/50000 [==============================] - 7s 135us/step - loss: 0.5522 - acc: 0.8385 - val_loss: 1.6529 - val_acc: 0.4892\n",
      "Epoch 47/50\n",
      "50000/50000 [==============================] - 7s 134us/step - loss: 0.5338 - acc: 0.8478 - val_loss: 1.6778 - val_acc: 0.4828\n",
      "Epoch 48/50\n",
      "50000/50000 [==============================] - 7s 134us/step - loss: 0.5171 - acc: 0.8536 - val_loss: 1.6785 - val_acc: 0.4875\n",
      "Epoch 49/50\n",
      "50000/50000 [==============================] - 7s 134us/step - loss: 0.5002 - acc: 0.8603 - val_loss: 1.6962 - val_acc: 0.4862\n",
      "Epoch 50/50\n",
      "50000/50000 [==============================] - 7s 133us/step - loss: 0.4837 - acc: 0.8665 - val_loss: 1.7178 - val_acc: 0.4847\n",
      "10000/10000 [==============================] - 1s 121us/step\n"
     ]
    }
   ],
   "source": [
    "\"\"\"\n",
    "Write your training loop and show the results\n",
    "\"\"\"\n",
    "model = build_mlp(input_shape=x_train.shape[1:])\n",
    "model.summary()\n",
    "optimizer = keras.optimizers.SGD(lr=LEARNING_RATE, nesterov=True, momentum=MOMENTUM)\n",
    "model.compile(loss=\"categorical_crossentropy\", metrics=[\"accuracy\"], optimizer=optimizer)\n",
    "\n",
    "model.fit(x_train, y_train, \n",
    "          epochs=EPOCHS, \n",
    "          batch_size=BATCH_SIZE, \n",
    "          validation_data=(x_test, y_test), \n",
    "          shuffle=True,\n",
    "          callbacks=[model_ckpt]\n",
    "         )\n",
    "\n",
    "# Collect results\n",
    "train_loss = model.history.history[\"loss\"]\n",
    "valid_loss = model.history.history[\"val_loss\"]\n",
    "train_acc = model.history.history[\"acc\"]\n",
    "valid_acc = model.history.history[\"val_acc\"]\n",
    "\n",
    "# Load back\n",
    "model = keras.models.load_model(\"./tmp.h5\")\n",
    "loss_loadback, acc_loadback = model.evaluate(x_test, y_test)"
   ]
  },
  {
   "cell_type": "code",
   "execution_count": 12,
   "metadata": {},
   "outputs": [
    {
     "data": {
      "image/png": "[encoded data removed]",
      "text/plain": [
       "<Figure size 432x288 with 1 Axes>"
      ]
     },
     "metadata": {},
     "output_type": "display_data"
    },
    {
     "data": {
      "image/png": "[encoded data removed]",
      "text/plain": [
       "<Figure size 432x288 with 1 Axes>"
      ]
     },
     "metadata": {},
     "output_type": "display_data"
    }
   ],
   "source": [
    "import matplotlib.pyplot as plt\n",
    "%matplotlib inline\n",
    "\n",
    "plt.plot(range(len(train_loss)), train_loss, label=\"train loss\")\n",
    "plt.plot(range(len(valid_loss)), valid_loss, label=\"valid loss\")\n",
    "plt.hlines(y=loss_loadback, xmin=0, xmax=len(train_loss), colors='r', linestyles='--')\n",
    "plt.legend()\n",
    "plt.title(\"Loss\")\n",
    "plt.show()\n",
    "\n",
    "plt.plot(range(len(train_acc)), train_acc, label=\"train accuracy\")\n",
    "plt.plot(range(len(valid_acc)), valid_acc, label=\"valid accuracy\")\n",
    "plt.hlines(y=acc_loadback, xmin=0, xmax=len(train_loss), colors='r', linestyles='--')\n",
    "plt.legend()\n",
    "plt.title(\"Accuracy\")\n",
    "plt.show()"
   ]
  },
  {
   "cell_type": "markdown",
   "metadata": {},
   "source": [
    "## 請僅存入將 save_weights_only 設定為 True, 並嘗試 reset ipynb 並將模型與權重重新建回並預測 x_test"
   ]
  },
  {
   "cell_type": "code",
   "execution_count": null,
   "metadata": {},
   "outputs": [],
   "source": []
  }
 ],
 "metadata": {
  "anaconda-cloud": {},
  "kernelspec": {
   "display_name": "Python 3",
   "language": "python",
   "name": "python3"
  },
  "language_info": {
   "codemirror_mode": {
    "name": "ipython",
    "version": 3
   },
   "file_extension": ".py",
   "mimetype": "text/x-python",
   "name": "python",
   "nbconvert_exporter": "python",
   "pygments_lexer": "ipython3",
   "version": "3.6.7"
  }
 },
 "nbformat": 4,
 "nbformat_minor": 2
}
