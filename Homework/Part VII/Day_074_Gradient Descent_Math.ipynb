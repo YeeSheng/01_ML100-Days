{
 "cells": [
  {
   "cell_type": "markdown",
   "metadata": {
    "colab_type": "text",
    "id": "z3NlFBteN2km"
   },
   "source": [
    "matplotlib: 載入繪圖的工具包\n",
    "random, numpy: 載入數學運算的工具包"
   ]
  },
  {
   "cell_type": "code",
   "execution_count": 1,
   "metadata": {
    "colab": {},
    "colab_type": "code",
    "collapsed": true,
    "id": "nc6Uw8AAN2kn"
   },
   "outputs": [],
   "source": [
    "import matplotlib\n",
    "import matplotlib.pyplot as plt\n",
    "%matplotlib inline \n",
    "#適用於 Jupyter Notebook, 宣告直接在cell 內印出執行結果\n",
    "import random as random\n",
    "import numpy as np\n",
    "import csv"
   ]
  },
  {
   "cell_type": "markdown",
   "metadata": {
    "colab_type": "text",
    "id": "CyBgR0XFN2kr"
   },
   "source": [
    "# ydata = b + w * xdata \n",
    "給定曲線的曲線範圍"
   ]
  },
  {
   "cell_type": "code",
   "execution_count": 2,
   "metadata": {
    "colab": {},
    "colab_type": "code",
    "collapsed": true,
    "id": "4-XnOrM0N2ks"
   },
   "outputs": [],
   "source": [
    "# 給定初始的data\n",
    "x_data = [ 338., 333., 328., 207., 226., 25., 179.,  60., 208.,  606.]\n",
    "y_data = [ 640., 633., 619., 393., 428., 27., 193.,  66., 226., 1591.]\n"
   ]
  },
  {
   "cell_type": "code",
   "execution_count": 3,
   "metadata": {
    "colab": {},
    "colab_type": "code",
    "collapsed": true,
    "id": "oKYnm2iqN2kv"
   },
   "outputs": [],
   "source": [
    "#給定神經網路參數:bias 跟weight\n",
    "x = np.arange(-200,-100,1) #給定bias\n",
    "y = np.arange(-5,5,0.1) #給定weight"
   ]
  },
  {
   "cell_type": "code",
   "execution_count": 4,
   "metadata": {
    "colab": {},
    "colab_type": "code",
    "collapsed": true,
    "id": "NZVUyls6N2kx"
   },
   "outputs": [],
   "source": [
    "\n",
    "Z =  np.zeros((len(x), len(y)))\n",
    "#meshgrid返回的兩個矩陣X、Y必定是行數、列數相等的，且X、Y的行數都等\n",
    "#meshgrid函數用兩個坐標軸上的點在平面上畫格。\n",
    "X, Y = np.meshgrid(x, y)\n",
    "for i in range(len(x)):\n",
    "    for j in range(len(y)):\n",
    "        b = x[i]\n",
    "        w = y[j]\n",
    "        Z[j][i] = 0  \n",
    "        for n in range(len(x_data)):\n",
    "            Z[j][i] = Z[j][i] +  (y_data[n] - b - w*x_data[n])**2\n",
    "        Z[j][i] = Z[j][i]/len(x_data)"
   ]
  },
  {
   "cell_type": "code",
   "execution_count": 5,
   "metadata": {
    "colab": {},
    "colab_type": "code",
    "collapsed": true,
    "id": "BlkJCj_sN2k0"
   },
   "outputs": [],
   "source": [
    "# ydata = b + w * xdata \n",
    "b = -120 # initial b\n",
    "w = -4 # initial w\n",
    "lr = 0.000001 # learning rate\n",
    "iteration = 100000\n",
    "\n",
    "# Store initial values for plotting.\n",
    "b_history = [b]\n",
    "w_history = [w]\n",
    "\n",
    "#給定初始值\n",
    "lr_b = 0.0\n",
    "lr_w = 0.0"
   ]
  },
  {
   "cell_type": "markdown",
   "metadata": {
    "colab_type": "text",
    "id": "NtxWpeq6N2k2"
   },
   "source": [
    "在微積分裡面，對多元函數的參數求∂偏導數，把求得的各個參數的偏導數以向量的形式寫出來，就是梯度。\n",
    "比如函數f(x), 對x求偏導數，求得的梯度向量就是(∂f/∂x),簡稱grad f(x)或者▽f (x)。\n"
   ]
  },
  {
   "cell_type": "code",
   "execution_count": 6,
   "metadata": {
    "colab": {},
    "colab_type": "code",
    "collapsed": true,
    "id": "fsZCC9qxN2k3"
   },
   "outputs": [],
   "source": [
    "'''\n",
    "Loss = (實際ydata – 預測ydata)\n",
    "Gradient = -2*input * Loss \n",
    "調整後的權重 = 原權重 – Learning * Gradient\n",
    "'''\n",
    "# Iterations\n",
    "for i in range(iteration):\n",
    "    \n",
    "    b_grad = 0.0\n",
    "    w_grad = 0.0\n",
    "    for n in range(len(x_data)):        \n",
    "        b_grad = b_grad  - 2.0*(y_data[n] - b - w*x_data[n])*1.0\n",
    "        w_grad = w_grad  - 2.0*(y_data[n] - b - w*x_data[n])*x_data[n]\n",
    "        \n",
    "    lr_b = lr_b + b_grad ** 2\n",
    "    lr_w = lr_w + w_grad ** 2\n",
    "    \n",
    "    # Update parameters.\n",
    "    b = b - lr * b_grad \n",
    "    w = w - lr * w_grad\n",
    "    \n",
    "    # Store parameters for plotting\n",
    "    b_history.append(b)\n",
    "    w_history.append(w)\n",
    "\n"
   ]
  },
  {
   "cell_type": "code",
   "execution_count": 7,
   "metadata": {
    "colab": {},
    "colab_type": "code",
    "id": "SqaiGVWZN2k6",
    "outputId": "39cb3295-0e7e-427a-c61b-70c076ebdffa"
   },
   "outputs": [
    {
     "data": {
      "image/png": "[encoded data removed]",
      "text/plain": [
       "<matplotlib.figure.Figure at 0x17f5b08a438>"
      ]
     },
     "metadata": {},
     "output_type": "display_data"
    }
   ],
   "source": [
    "# plot the figure\n",
    "plt.contourf(x,y,Z, 50, alpha=0.5, cmap=plt.get_cmap('jet'))\n",
    "plt.plot([-188.4], [2.67], 'x', ms=12, markeredgewidth=3, color='orange')\n",
    "plt.plot(b_history, w_history, 'o-', ms=3, lw=1.5, color='black')\n",
    "plt.xlim(-200,-100)\n",
    "plt.ylim(-5,5)\n",
    "plt.xlabel(r'$b$', fontsize=16)\n",
    "plt.ylabel(r'$w$', fontsize=16)\n",
    "plt.show()"
   ]
  },
  {
   "cell_type": "code",
   "execution_count": 0,
   "metadata": {
    "colab": {},
    "colab_type": "code",
    "collapsed": true,
    "id": "NJwFDjl3N2lA"
   },
   "outputs": [],
   "source": []
  }
 ],
 "metadata": {
  "colab": {
   "name": "Day74_Gradient Descent_Math.ipynb",
   "provenance": [],
   "version": "0.3.2"
  },
  "kernelspec": {
   "display_name": "Python 3",
   "language": "python",
   "name": "python3"
  },
  "language_info": {
   "codemirror_mode": {
    "name": "ipython",
    "version": 3
   },
   "file_extension": ".py",
   "mimetype": "text/x-python",
   "name": "python",
   "nbconvert_exporter": "python",
   "pygments_lexer": "ipython3",
   "version": "3.6.5"
  }
 },
 "nbformat": 4,
 "nbformat_minor": 1
}
