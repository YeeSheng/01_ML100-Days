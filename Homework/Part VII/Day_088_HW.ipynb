{
 "cells": [
  {
   "cell_type": "markdown",
   "metadata": {},
   "source": [
    "## Work\n",
    "1. 請嘗試寫一個 callback 用來記錄各類別在訓練過程中，對驗證集的 True Positive 與 True Negative"
   ]
  },
  {
   "cell_type": "markdown",
   "metadata": {},
   "source": [
    "### Reference\n",
    "* https://zhuanlan.zhihu.com/p/51356820\n",
    "* https://medium.com/@upu1994/how-easy-is-making-custom-keras-callbacks-c771091602da\n",
    "* https://medium.com/singlestone/keras-callbacks-monitor-and-improve-your-deep-learning-205a8a27e91c"
   ]
  },
  {
   "cell_type": "code",
   "execution_count": 1,
   "metadata": {},
   "outputs": [
    {
     "name": "stderr",
     "output_type": "stream",
     "text": [
      "C:\\Users\\Win10\\Anaconda3\\lib\\site-packages\\h5py\\__init__.py:36: FutureWarning: Conversion of the second argument of issubdtype from `float` to `np.floating` is deprecated. In future, it will be treated as `np.float64 == np.dtype(float).type`.\n",
      "  from ._conv import register_converters as _register_converters\n",
      "Using TensorFlow backend.\n"
     ]
    }
   ],
   "source": [
    "import os\n",
    "import keras\n",
    "\n",
    "# Disable GPU\n",
    "os.environ[\"CUDA_VISIBLE_DEVICES\"] = \"\""
   ]
  },
  {
   "cell_type": "code",
   "execution_count": 2,
   "metadata": {},
   "outputs": [],
   "source": [
    "train, test = keras.datasets.cifar10.load_data()"
   ]
  },
  {
   "cell_type": "code",
   "execution_count": 3,
   "metadata": {},
   "outputs": [],
   "source": [
    "## 資料前處理\n",
    "def preproc_x(x, flatten=True):\n",
    "    x = x / 255.\n",
    "    if flatten:\n",
    "        x = x.reshape((len(x), -1))\n",
    "    return x\n",
    "\n",
    "def preproc_y(y, num_classes=10):\n",
    "    if y.shape[-1] == 1:\n",
    "        y = keras.utils.to_categorical(y, num_classes)\n",
    "    return y    "
   ]
  },
  {
   "cell_type": "code",
   "execution_count": 4,
   "metadata": {},
   "outputs": [],
   "source": [
    "x_train, y_train = train\n",
    "x_test, y_test = test\n",
    "\n",
    "# Preproc the inputs\n",
    "x_train = preproc_x(x_train)\n",
    "x_test = preproc_x(x_test)\n",
    "\n",
    "# Preprc the outputs\n",
    "y_train = preproc_y(y_train)\n",
    "y_test = preproc_y(y_test)"
   ]
  },
  {
   "cell_type": "code",
   "execution_count": 5,
   "metadata": {},
   "outputs": [],
   "source": [
    "from keras.layers import BatchNormalization\n",
    "def build_mlp(input_shape, output_units=10, num_neurons=[512, 256, 128]):\n",
    "    input_layer = keras.layers.Input(input_shape)\n",
    "    \n",
    "    for i, n_units in enumerate(num_neurons):\n",
    "        if i == 0:\n",
    "            x = keras.layers.Dense(units=n_units, \n",
    "                                   activation=\"relu\", \n",
    "                                   name=\"hidden_layer\"+str(i+1))(input_layer)\n",
    "            x = BatchNormalization()(x)\n",
    "        else:\n",
    "            x = keras.layers.Dense(units=n_units, \n",
    "                                   activation=\"relu\", \n",
    "                                   name=\"hidden_layer\"+str(i+1))(x)\n",
    "            x = BatchNormalization()(x)\n",
    "    \n",
    "    out = keras.layers.Dense(units=output_units, activation=\"softmax\", name=\"output\")(x)\n",
    "    \n",
    "    model = keras.models.Model(inputs=[input_layer], outputs=[out])\n",
    "    return model"
   ]
  },
  {
   "cell_type": "code",
   "execution_count": 6,
   "metadata": {},
   "outputs": [],
   "source": [
    "## 超參數設定\n",
    "LEARNING_RATE = 1e-3\n",
    "EPOCHS = 25\n",
    "BATCH_SIZE = 1024\n",
    "MOMENTUM = 0.95"
   ]
  },
  {
   "cell_type": "code",
   "execution_count": 14,
   "metadata": {},
   "outputs": [],
   "source": [
    "from keras.callbacks import Callback\n",
    "from sklearn.metrics import confusion_matrix\n",
    "# Record_fp_tp\n",
    "class Record_fp_tp(Callback):\n",
    "    def on_train_begin(self, epoch, logs = {}):\n",
    "        logs = logs or {}\n",
    "        record_items = [\"val_auc\", \"val_f1sc\", \"val_fp\", \"val_fn\", \"val_tp\", \"val_tn\"]\n",
    "        for i in record_items:\n",
    "            if i not in self.params['metrics']:\n",
    "                self.params['metrics'].append(i)\n",
    "    \n",
    "    def on_epoch_end(self, epoch, logs = {}, thres=0.5):\n",
    "        logs = logs or {}\n",
    "        y_true = self.validation_data[1].argmax(axis = 1)\n",
    "        y_pred = self.model.predict(self.validation_data[0])\n",
    "        y_pred = (y_pred[:, 1] >= thres) * 1\n",
    "        \n",
    "        CM=confusion_matrix(y_true, y_pred)\n",
    "        logs['val_tp'] =CM[0][0]\n",
    "        logs['val_tn'] =CM[1][1]\n",
    "        \n",
    "rec_tptn = Record_fp_tp()"
   ]
  },
  {
   "cell_type": "code",
   "execution_count": 15,
   "metadata": {
    "scrolled": true
   },
   "outputs": [
    {
     "name": "stdout",
     "output_type": "stream",
     "text": [
      "_________________________________________________________________\n",
      "Layer (type)                 Output Shape              Param #   \n",
      "=================================================================\n",
      "input_3 (InputLayer)         (None, 3072)              0         \n",
      "_________________________________________________________________\n",
      "hidden_layer1 (Dense)        (None, 512)               1573376   \n",
      "_________________________________________________________________\n",
      "batch_normalization_7 (Batch (None, 512)               2048      \n",
      "_________________________________________________________________\n",
      "hidden_layer2 (Dense)        (None, 256)               131328    \n",
      "_________________________________________________________________\n",
      "batch_normalization_8 (Batch (None, 256)               1024      \n",
      "_________________________________________________________________\n",
      "hidden_layer3 (Dense)        (None, 128)               32896     \n",
      "_________________________________________________________________\n",
      "batch_normalization_9 (Batch (None, 128)               512       \n",
      "_________________________________________________________________\n",
      "output (Dense)               (None, 10)                1290      \n",
      "=================================================================\n",
      "Total params: 1,742,474\n",
      "Trainable params: 1,740,682\n",
      "Non-trainable params: 1,792\n",
      "_________________________________________________________________\n",
      "Train on 50000 samples, validate on 10000 samples\n",
      "Epoch 1/25\n",
      "50000/50000 [==============================] - 15s 295us/step - loss: 2.2316 - acc: 0.2633 - val_loss: 2.1295 - val_acc: 0.3196\n",
      "Epoch 2/25\n",
      "50000/50000 [==============================] - 11s 227us/step - loss: 1.7458 - acc: 0.3937 - val_loss: 1.8099 - val_acc: 0.3739\n",
      "Epoch 3/25\n",
      "50000/50000 [==============================] - 11s 228us/step - loss: 1.6264 - acc: 0.4338 - val_loss: 1.7055 - val_acc: 0.4012\n",
      "Epoch 4/25\n",
      "50000/50000 [==============================] - 11s 225us/step - loss: 1.5547 - acc: 0.4599 - val_loss: 1.6416 - val_acc: 0.4248\n",
      "Epoch 5/25\n",
      "50000/50000 [==============================] - 11s 226us/step - loss: 1.4991 - acc: 0.4780 - val_loss: 1.5985 - val_acc: 0.4409\n",
      "Epoch 6/25\n",
      "50000/50000 [==============================] - 12s 233us/step - loss: 1.4556 - acc: 0.4933 - val_loss: 1.5716 - val_acc: 0.4441\n",
      "Epoch 7/25\n",
      "50000/50000 [==============================] - 12s 238us/step - loss: 1.4145 - acc: 0.5081 - val_loss: 1.5523 - val_acc: 0.4516\n",
      "Epoch 8/25\n",
      "50000/50000 [==============================] - 15s 290us/step - loss: 1.3806 - acc: 0.5198 - val_loss: 1.5334 - val_acc: 0.4571\n",
      "Epoch 9/25\n",
      "50000/50000 [==============================] - 14s 286us/step - loss: 1.3497 - acc: 0.5306 - val_loss: 1.5236 - val_acc: 0.4614\n",
      "Epoch 10/25\n",
      "50000/50000 [==============================] - 13s 256us/step - loss: 1.3193 - acc: 0.5409 - val_loss: 1.4985 - val_acc: 0.4654\n",
      "Epoch 11/25\n",
      "50000/50000 [==============================] - 13s 263us/step - loss: 1.2917 - acc: 0.5505 - val_loss: 1.4982 - val_acc: 0.4665\n",
      "Epoch 12/25\n",
      "50000/50000 [==============================] - 13s 257us/step - loss: 1.2654 - acc: 0.5607 - val_loss: 1.4825 - val_acc: 0.4740\n",
      "Epoch 13/25\n",
      "50000/50000 [==============================] - 13s 256us/step - loss: 1.2395 - acc: 0.5718 - val_loss: 1.4885 - val_acc: 0.4733\n",
      "Epoch 14/25\n",
      "50000/50000 [==============================] - 14s 279us/step - loss: 1.2163 - acc: 0.5812 - val_loss: 1.4801 - val_acc: 0.4714\n",
      "Epoch 15/25\n",
      "50000/50000 [==============================] - 12s 230us/step - loss: 1.1920 - acc: 0.5875 - val_loss: 1.4751 - val_acc: 0.4793\n",
      "Epoch 16/25\n",
      "50000/50000 [==============================] - 11s 226us/step - loss: 1.1679 - acc: 0.5983 - val_loss: 1.4708 - val_acc: 0.4743\n",
      "Epoch 17/25\n",
      "50000/50000 [==============================] - 11s 224us/step - loss: 1.1455 - acc: 0.6077 - val_loss: 1.4646 - val_acc: 0.4825\n",
      "Epoch 18/25\n",
      "50000/50000 [==============================] - 11s 225us/step - loss: 1.1227 - acc: 0.6150 - val_loss: 1.4698 - val_acc: 0.4831\n",
      "Epoch 19/25\n",
      "50000/50000 [==============================] - 11s 225us/step - loss: 1.1014 - acc: 0.6232 - val_loss: 1.4782 - val_acc: 0.4807\n",
      "Epoch 20/25\n",
      "50000/50000 [==============================] - 11s 225us/step - loss: 1.0805 - acc: 0.6310 - val_loss: 1.4695 - val_acc: 0.4812\n",
      "Epoch 21/25\n",
      "50000/50000 [==============================] - 11s 229us/step - loss: 1.0572 - acc: 0.6388 - val_loss: 1.4592 - val_acc: 0.4850\n",
      "Epoch 22/25\n",
      "50000/50000 [==============================] - 11s 223us/step - loss: 1.0364 - acc: 0.6495 - val_loss: 1.4638 - val_acc: 0.4864\n",
      "Epoch 23/25\n",
      "50000/50000 [==============================] - 11s 229us/step - loss: 1.0154 - acc: 0.6562 - val_loss: 1.4727 - val_acc: 0.4889\n",
      "Epoch 24/25\n",
      "50000/50000 [==============================] - 11s 227us/step - loss: 0.9943 - acc: 0.6637 - val_loss: 1.4790 - val_acc: 0.4844\n",
      "Epoch 25/25\n",
      "50000/50000 [==============================] - 11s 223us/step - loss: 0.9744 - acc: 0.6719 - val_loss: 1.4703 - val_acc: 0.4887\n"
     ]
    }
   ],
   "source": [
    "model = build_mlp(input_shape=x_train.shape[1:])\n",
    "model.summary()\n",
    "optimizer = keras.optimizers.SGD(lr=LEARNING_RATE, nesterov=True, momentum=MOMENTUM)\n",
    "model.compile(loss=\"categorical_crossentropy\", metrics=[\"accuracy\"], optimizer=optimizer)\n",
    "\n",
    "model.fit(x_train, y_train, \n",
    "          epochs=EPOCHS, \n",
    "          batch_size=BATCH_SIZE, \n",
    "          validation_data=(x_test, y_test), \n",
    "          shuffle=True,\n",
    "          callbacks=[rec_tptn]\n",
    "         )\n",
    "# Collect results\n",
    "train_loss = model.history.history[\"loss\"]\n",
    "valid_loss = model.history.history[\"val_loss\"]\n",
    "train_acc = model.history.history[\"acc\"]\n",
    "valid_acc = model.history.history[\"val_acc\"]\n",
    "\n",
    "valid_tp = model.history.history[\"val_tp\"]\n",
    "valid_tn = model.history.history[\"val_tn\"]"
   ]
  },
  {
   "cell_type": "code",
   "execution_count": 16,
   "metadata": {},
   "outputs": [
    {
     "data": {
      "image/png": "[encoded data removed]",
      "text/plain": [
       "<Figure size 432x288 with 1 Axes>"
      ]
     },
     "metadata": {},
     "output_type": "display_data"
    },
    {
     "data": {
      "image/png": "[encoded data removed]",
      "text/plain": [
       "<Figure size 432x288 with 1 Axes>"
      ]
     },
     "metadata": {},
     "output_type": "display_data"
    },
    {
     "data": {
      "image/png": "[encoded data removed]",
      "text/plain": [
       "<Figure size 432x288 with 1 Axes>"
      ]
     },
     "metadata": {},
     "output_type": "display_data"
    }
   ],
   "source": [
    "import matplotlib.pyplot as plt\n",
    "%matplotlib inline\n",
    "\n",
    "plt.plot(range(len(train_loss)), train_loss, label=\"train loss\")\n",
    "plt.plot(range(len(valid_loss)), valid_loss, label=\"valid loss\")\n",
    "plt.legend()\n",
    "plt.title(\"Loss\")\n",
    "plt.show()\n",
    "\n",
    "plt.plot(range(len(train_acc)), train_acc, label=\"train accuracy\")\n",
    "plt.plot(range(len(valid_acc)), valid_acc, label=\"valid accuracy\")\n",
    "plt.legend()\n",
    "plt.title(\"Accuracy\")\n",
    "plt.show()\n",
    "\n",
    "plt.plot(range(len(valid_tp)), valid_tp, label=\"valid tp\", color=\"navy\")\n",
    "plt.plot(range(len(valid_tn)), valid_tn, label=\"valid tn\", color=\"red\")\n",
    "plt.legend()\n",
    "plt.title(\"True positives and True Negatives\")\n",
    "plt.show()\n"
   ]
  },
  {
   "cell_type": "code",
   "execution_count": null,
   "metadata": {},
   "outputs": [],
   "source": []
  }
 ],
 "metadata": {
  "kernelspec": {
   "display_name": "Python 3",
   "language": "python",
   "name": "python3"
  },
  "language_info": {
   "codemirror_mode": {
    "name": "ipython",
    "version": 3
   },
   "file_extension": ".py",
   "mimetype": "text/x-python",
   "name": "python",
   "nbconvert_exporter": "python",
   "pygments_lexer": "ipython3",
   "version": "3.6.5"
  }
 },
 "nbformat": 4,
 "nbformat_minor": 2
}
