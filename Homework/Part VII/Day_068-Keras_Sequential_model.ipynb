{
 "cells": [
  {
   "cell_type": "code",
   "execution_count": 1,
   "metadata": {},
   "outputs": [
    {
     "name": "stderr",
     "output_type": "stream",
     "text": [
      "Using TensorFlow backend.\n"
     ]
    }
   ],
   "source": [
    "import keras\n",
    "from keras.datasets import cifar10\n",
    "from keras.models import Sequential, load_model\n",
    "from keras.layers import Dense, Dropout, Activation, Flatten\n",
    "from keras.layers import Conv2D, MaxPooling2D\n",
    "import matplotlib.pyplot as plt\n",
    "\n",
    "batch_size = 16\n",
    "num_classes = 10\n",
    "epochs = 10\n",
    "\n",
    "# The data, shuffled and split between train and test sets:\n",
    "(x_train, y_train), (x_test, y_test) = cifar10.load_data()\n"
   ]
  },
  {
   "cell_type": "code",
   "execution_count": 2,
   "metadata": {},
   "outputs": [],
   "source": [
    " #Convert class vectors to binary class matrices.\n",
    "y_train = keras.utils.to_categorical(y_train, num_classes)\n",
    "y_test = keras.utils.to_categorical(y_test, num_classes)\n",
    "\n",
    "x_train = x_train.astype('float32') / 255.0\n",
    "x_test = x_test.astype('float32') / 255.0\n"
   ]
  },
  {
   "cell_type": "code",
   "execution_count": 3,
   "metadata": {},
   "outputs": [
    {
     "name": "stdout",
     "output_type": "stream",
     "text": [
      "_________________________________________________________________\n",
      "Layer (type)                 Output Shape              Param #   \n",
      "=================================================================\n",
      "conv2d_1 (Conv2D)            (None, 32, 32, 64)        1792      \n",
      "_________________________________________________________________\n",
      "max_pooling2d_1 (MaxPooling2 (None, 16, 16, 64)        0         \n",
      "_________________________________________________________________\n",
      "flatten_1 (Flatten)          (None, 16384)             0         \n",
      "_________________________________________________________________\n",
      "dense_1 (Dense)              (None, 1024)              16778240  \n",
      "_________________________________________________________________\n",
      "activation_1 (Activation)    (None, 1024)              0         \n",
      "_________________________________________________________________\n",
      "dense_2 (Dense)              (None, 10)                10250     \n",
      "_________________________________________________________________\n",
      "activation_2 (Activation)    (None, 10)                0         \n",
      "=================================================================\n",
      "Total params: 16,790,282\n",
      "Trainable params: 16,790,282\n",
      "Non-trainable params: 0\n",
      "_________________________________________________________________\n",
      "None\n"
     ]
    }
   ],
   "source": [
    "# build our CNN model\n",
    "model = Sequential()\n",
    "model.add(Conv2D(filters=64,kernel_size=(3,3),\n",
    "                 input_shape=(32, 32,3), \n",
    "                 activation='relu', \n",
    "                 padding='same'))\n",
    "model.add(MaxPooling2D(pool_size=(2, 2)))\n",
    "\n",
    "model.add(Flatten())\n",
    "model.add(Dense(1024))\n",
    "model.add(Activation('relu'))\n",
    "model.add(Dense(num_classes))\n",
    "model.add(Activation('softmax'))\n",
    "\n",
    "print(model.summary())"
   ]
  },
  {
   "cell_type": "code",
   "execution_count": 4,
   "metadata": {},
   "outputs": [
    {
     "name": "stdout",
     "output_type": "stream",
     "text": [
      "Train on 40000 samples, validate on 10000 samples\n",
      "Epoch 1/10\n",
      "40000/40000 [==============================] - 153s 4ms/step - loss: 1.6212 - acc: 0.4451 - val_loss: 1.3085 - val_acc: 0.5412\n",
      "Epoch 2/10\n",
      "40000/40000 [==============================] - 158s 4ms/step - loss: 1.1660 - acc: 0.5887 - val_loss: 1.1446 - val_acc: 0.5934\n",
      "Epoch 3/10\n",
      "40000/40000 [==============================] - 148s 4ms/step - loss: 1.0281 - acc: 0.6393 - val_loss: 1.0887 - val_acc: 0.6169\n",
      "Epoch 4/10\n",
      "40000/40000 [==============================] - 146s 4ms/step - loss: 0.9130 - acc: 0.6820 - val_loss: 1.0320 - val_acc: 0.6375\n",
      "Epoch 5/10\n",
      "40000/40000 [==============================] - 149s 4ms/step - loss: 0.7972 - acc: 0.7212 - val_loss: 1.0324 - val_acc: 0.6456\n",
      "Epoch 6/10\n",
      "40000/40000 [==============================] - 150s 4ms/step - loss: 0.7015 - acc: 0.7586 - val_loss: 1.0405 - val_acc: 0.6488\n",
      "Epoch 7/10\n",
      "40000/40000 [==============================] - 160s 4ms/step - loss: 0.5893 - acc: 0.7989 - val_loss: 1.0315 - val_acc: 0.6568\n",
      "Epoch 8/10\n",
      "40000/40000 [==============================] - 147s 4ms/step - loss: 0.4933 - acc: 0.8327 - val_loss: 1.0553 - val_acc: 0.6619\n",
      "Epoch 9/10\n",
      "40000/40000 [==============================] - 149s 4ms/step - loss: 0.3887 - acc: 0.8720 - val_loss: 1.1196 - val_acc: 0.6602\n",
      "Epoch 10/10\n",
      "40000/40000 [==============================] - 160s 4ms/step - loss: 0.2943 - acc: 0.9078 - val_loss: 1.1819 - val_acc: 0.6594\n",
      "10000/10000 [==============================] - 9s 918us/step\n",
      "Test accuracy: 0.6506\n"
     ]
    }
   ],
   "source": [
    "# initiate Adam optimizer\n",
    "opt = keras.optimizers.Adam()\n",
    "\n",
    "# Let's train the model using Adam\n",
    "model.compile(loss='categorical_crossentropy',optimizer=opt,metrics=['accuracy'])\n",
    "\n",
    "model_history = model.fit(x_train, y_train, validation_split=0.2, epochs=10, batch_size=128, verbose=1)  \n",
    "\n",
    "# Score trained model.\n",
    "scores = model.evaluate(x_test, y_test, verbose=1)\n",
    "print('Test accuracy:', scores[1])"
   ]
  },
  {
   "cell_type": "code",
   "execution_count": null,
   "metadata": {},
   "outputs": [],
   "source": []
  }
 ],
 "metadata": {
  "kernelspec": {
   "display_name": "Python 3",
   "language": "python",
   "name": "python3"
  },
  "language_info": {
   "codemirror_mode": {
    "name": "ipython",
    "version": 3
   },
   "file_extension": ".py",
   "mimetype": "text/x-python",
   "name": "python",
   "nbconvert_exporter": "python",
   "pygments_lexer": "ipython3",
   "version": "3.6.7"
  }
 },
 "nbformat": 4,
 "nbformat_minor": 2
}
