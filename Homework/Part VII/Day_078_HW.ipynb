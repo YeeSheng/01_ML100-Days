{
 "cells": [
  {
   "cell_type": "markdown",
   "metadata": {},
   "source": [
    "## Reference\n",
    "* https://github.com/vashineyu/slides_and_others/blob/master/tutorial/gpu_usage.pdf\n",
    "* http://josh-tobin.com/assets/pdf/troubleshooting-deep-neural-networks-01-19.pdf\n",
    "* https://www.python.org/dev/peps/pep-0008/"
   ]
  },
  {
   "cell_type": "markdown",
   "metadata": {},
   "source": [
    "## Work\n",
    "1. 請嘗試將 preproc_x 替換成以每筆資料的 min/max 進行標準化至 -1 ~ 1 間，再進行訓練\n",
    "2. 請嘗試將 mlp 疊更深 (e.g 5~10 層)，進行訓練後觀察 learning curve 的走勢\n",
    "3. (optional) 請改用 GPU 進行訓練 (如果你有 GPU 的話)，比較使用 CPU 與 GPU 的訓練速度"
   ]
  },
  {
   "cell_type": "code",
   "execution_count": 1,
   "metadata": {},
   "outputs": [
    {
     "ename": "NameError",
     "evalue": "name 'nvidia' is not defined",
     "output_type": "error",
     "traceback": [
      "\u001b[1;31m---------------------------------------------------------------------------\u001b[0m",
      "\u001b[1;31mNameError\u001b[0m                                 Traceback (most recent call last)",
      "\u001b[1;32m<ipython-input-1-5da066d20a85>\u001b[0m in \u001b[0;36m<module>\u001b[1;34m()\u001b[0m\n\u001b[0;32m      3\u001b[0m \u001b[0mYour\u001b[0m \u001b[0mcode\u001b[0m \u001b[0mhere\u001b[0m\u001b[1;33m\u001b[0m\u001b[1;33m\u001b[0m\u001b[0m\n\u001b[0;32m      4\u001b[0m \"\"\"\n\u001b[1;32m----> 5\u001b[1;33m \u001b[0mnvidia\u001b[0m\u001b[1;33m-\u001b[0m\u001b[0msmi\u001b[0m\u001b[1;33m\u001b[0m\u001b[1;33m\u001b[0m\u001b[0m\n\u001b[0m",
      "\u001b[1;31mNameError\u001b[0m: name 'nvidia' is not defined"
     ]
    }
   ],
   "source": [
    "## 確認硬體資源\n",
    "\"\"\"\n",
    "Your code here\n",
    "\"\"\"\n",
    "nvidia-smi"
   ]
  },
  {
   "cell_type": "code",
   "execution_count": 3,
   "metadata": {},
   "outputs": [],
   "source": [
    "import os\n",
    "import keras\n",
    "\n",
    "# Try to enable GPU (optional)\n",
    "os.environ[\"CUDA_VISIBLE_DEVICES\"] = \"\""
   ]
  },
  {
   "cell_type": "code",
   "execution_count": 4,
   "metadata": {},
   "outputs": [],
   "source": [
    "train, test = keras.datasets.cifar10.load_data()"
   ]
  },
  {
   "cell_type": "code",
   "execution_count": 5,
   "metadata": {},
   "outputs": [],
   "source": [
    "## 資料前處理\n",
    "def preproc_x(x, flatten=True):\n",
    "    x = x / 255.\n",
    "    if flatten:\n",
    "        x = x.reshape((len(x), -1))\n",
    "    return x\n",
    "\n",
    "def preproc_y(y, num_classes=10):\n",
    "    if y.shape[-1] == 1:\n",
    "        y = keras.utils.to_categorical(y, num_classes)\n",
    "    return y    "
   ]
  },
  {
   "cell_type": "code",
   "execution_count": 6,
   "metadata": {},
   "outputs": [],
   "source": [
    "x_train, y_train = train\n",
    "x_test, y_test = test\n",
    "\n",
    "# Preproc the inputs\n",
    "x_train = preproc_x(x_train)\n",
    "x_test = preproc_x(x_test)\n",
    "\n",
    "# Preprc the outputs\n",
    "y_train = preproc_y(y_train)\n",
    "y_test = preproc_y(y_test)"
   ]
  },
  {
   "cell_type": "code",
   "execution_count": 8,
   "metadata": {},
   "outputs": [
    {
     "name": "stdout",
     "output_type": "stream",
     "text": [
      "_________________________________________________________________\n",
      "Layer (type)                 Output Shape              Param #   \n",
      "=================================================================\n",
      "input_1 (InputLayer)         (None, 3072)              0         \n",
      "_________________________________________________________________\n",
      "hidden_layer1 (Dense)        (None, 512)               1573376   \n",
      "_________________________________________________________________\n",
      "hidden_layer2 (Dense)        (None, 256)               131328    \n",
      "_________________________________________________________________\n",
      "hidden_layer3 (Dense)        (None, 128)               32896     \n",
      "_________________________________________________________________\n",
      "output (Dense)               (None, 10)                1290      \n",
      "=================================================================\n",
      "Total params: 1,738,890\n",
      "Trainable params: 1,738,890\n",
      "Non-trainable params: 0\n",
      "_________________________________________________________________\n"
     ]
    }
   ],
   "source": [
    "def build_mlp(input_shape, output_units=10, num_neurons=[512, 256, 128]):\n",
    "    input_layer = keras.layers.Input(input_shape)\n",
    "    \n",
    "    for i, n_units in enumerate(num_neurons):\n",
    "        if i == 0:\n",
    "            x = keras.layers.Dense(units=n_units, activation=\"relu\", name=\"hidden_layer\"+str(i+1))(input_layer)\n",
    "        else:\n",
    "            x = keras.layers.Dense(units=n_units, activation=\"relu\", name=\"hidden_layer\"+str(i+1))(x)\n",
    "    \n",
    "    out = keras.layers.Dense(units=output_units, activation=\"softmax\", name=\"output\")(x)\n",
    "    \n",
    "    model = keras.models.Model(inputs=[input_layer], outputs=[out])\n",
    "    return model\n",
    "\n",
    "model = build_mlp(input_shape=x_train.shape[1:])\n",
    "model.summary()"
   ]
  },
  {
   "cell_type": "code",
   "execution_count": 9,
   "metadata": {},
   "outputs": [],
   "source": [
    "## 超參數設定\n",
    "LEARNING_RATE = 0.001\n",
    "EPOCHS = 100\n",
    "BATCH_SIZE = 256"
   ]
  },
  {
   "cell_type": "code",
   "execution_count": 10,
   "metadata": {},
   "outputs": [],
   "source": [
    "optimizer = keras.optimizers.Adam(lr=LEARNING_RATE)\n",
    "model.compile(loss=\"categorical_crossentropy\", metrics=[\"accuracy\"], optimizer=optimizer)"
   ]
  },
  {
   "cell_type": "code",
   "execution_count": 11,
   "metadata": {},
   "outputs": [
    {
     "name": "stdout",
     "output_type": "stream",
     "text": [
      "Train on 50000 samples, validate on 10000 samples\n",
      "Epoch 1/100\n",
      "50000/50000 [==============================] - 18s 364us/step - loss: 1.9468 - acc: 0.2945 - val_loss: 1.7807 - val_acc: 0.3731\n",
      "Epoch 2/100\n",
      "50000/50000 [==============================] - 15s 293us/step - loss: 1.7076 - acc: 0.3888 - val_loss: 1.7115 - val_acc: 0.3939\n",
      "Epoch 3/100\n",
      "50000/50000 [==============================] - 15s 301us/step - loss: 1.6276 - acc: 0.4169 - val_loss: 1.5981 - val_acc: 0.4233\n",
      "Epoch 4/100\n",
      "50000/50000 [==============================] - 13s 264us/step - loss: 1.5605 - acc: 0.4445 - val_loss: 1.5462 - val_acc: 0.4512\n",
      "Epoch 5/100\n",
      "50000/50000 [==============================] - 13s 268us/step - loss: 1.5089 - acc: 0.4620 - val_loss: 1.5324 - val_acc: 0.4608\n",
      "Epoch 6/100\n",
      "50000/50000 [==============================] - 13s 266us/step - loss: 1.4749 - acc: 0.4747 - val_loss: 1.5175 - val_acc: 0.4605\n",
      "Epoch 7/100\n",
      "50000/50000 [==============================] - 12s 240us/step - loss: 1.4448 - acc: 0.4865 - val_loss: 1.4967 - val_acc: 0.4625\n",
      "Epoch 8/100\n",
      "50000/50000 [==============================] - 14s 277us/step - loss: 1.4165 - acc: 0.4943 - val_loss: 1.4381 - val_acc: 0.4916\n",
      "Epoch 9/100\n",
      "50000/50000 [==============================] - 13s 265us/step - loss: 1.3831 - acc: 0.5083 - val_loss: 1.4701 - val_acc: 0.4735\n",
      "Epoch 10/100\n",
      "50000/50000 [==============================] - 14s 281us/step - loss: 1.3539 - acc: 0.5192 - val_loss: 1.4324 - val_acc: 0.4903\n",
      "Epoch 11/100\n",
      "50000/50000 [==============================] - 13s 264us/step - loss: 1.3367 - acc: 0.5250 - val_loss: 1.4496 - val_acc: 0.4773\n",
      "Epoch 12/100\n",
      "50000/50000 [==============================] - 14s 285us/step - loss: 1.3064 - acc: 0.5346 - val_loss: 1.4194 - val_acc: 0.4957\n",
      "Epoch 13/100\n",
      "50000/50000 [==============================] - 15s 298us/step - loss: 1.2823 - acc: 0.5450 - val_loss: 1.4178 - val_acc: 0.4974\n",
      "Epoch 14/100\n",
      "50000/50000 [==============================] - 13s 270us/step - loss: 1.2524 - acc: 0.5537 - val_loss: 1.3867 - val_acc: 0.5104\n",
      "Epoch 15/100\n",
      "50000/50000 [==============================] - 14s 284us/step - loss: 1.2290 - acc: 0.5629 - val_loss: 1.4179 - val_acc: 0.4947\n",
      "Epoch 16/100\n",
      "50000/50000 [==============================] - 13s 268us/step - loss: 1.2156 - acc: 0.5663 - val_loss: 1.3773 - val_acc: 0.5091\n",
      "Epoch 17/100\n",
      "50000/50000 [==============================] - 13s 257us/step - loss: 1.1922 - acc: 0.5762 - val_loss: 1.3554 - val_acc: 0.5207\n",
      "Epoch 18/100\n",
      "50000/50000 [==============================] - 14s 273us/step - loss: 1.1669 - acc: 0.5859 - val_loss: 1.3651 - val_acc: 0.5183\n",
      "Epoch 19/100\n",
      "50000/50000 [==============================] - 14s 271us/step - loss: 1.1583 - acc: 0.5872 - val_loss: 1.3874 - val_acc: 0.5140\n",
      "Epoch 20/100\n",
      "50000/50000 [==============================] - 14s 290us/step - loss: 1.1392 - acc: 0.5907 - val_loss: 1.3782 - val_acc: 0.5101\n",
      "Epoch 21/100\n",
      "50000/50000 [==============================] - 13s 260us/step - loss: 1.1118 - acc: 0.6039 - val_loss: 1.3708 - val_acc: 0.5203\n",
      "Epoch 22/100\n",
      "50000/50000 [==============================] - 13s 258us/step - loss: 1.1008 - acc: 0.6076 - val_loss: 1.3627 - val_acc: 0.5255\n",
      "Epoch 23/100\n",
      "50000/50000 [==============================] - 14s 275us/step - loss: 1.0784 - acc: 0.6142 - val_loss: 1.3840 - val_acc: 0.5282\n",
      "Epoch 24/100\n",
      "50000/50000 [==============================] - 14s 281us/step - loss: 1.0638 - acc: 0.6218 - val_loss: 1.3606 - val_acc: 0.5308\n",
      "Epoch 25/100\n",
      "50000/50000 [==============================] - 14s 271us/step - loss: 1.0409 - acc: 0.6291 - val_loss: 1.3686 - val_acc: 0.5280\n",
      "Epoch 26/100\n",
      "50000/50000 [==============================] - 13s 270us/step - loss: 1.0240 - acc: 0.6346 - val_loss: 1.3928 - val_acc: 0.5191\n",
      "Epoch 27/100\n",
      "50000/50000 [==============================] - 13s 263us/step - loss: 1.0065 - acc: 0.6421 - val_loss: 1.3919 - val_acc: 0.5285\n",
      "Epoch 28/100\n",
      "50000/50000 [==============================] - 13s 266us/step - loss: 1.0006 - acc: 0.6415 - val_loss: 1.3867 - val_acc: 0.5287\n",
      "Epoch 29/100\n",
      "50000/50000 [==============================] - 13s 265us/step - loss: 0.9731 - acc: 0.6509 - val_loss: 1.4277 - val_acc: 0.5227\n",
      "Epoch 30/100\n",
      "50000/50000 [==============================] - 14s 287us/step - loss: 0.9470 - acc: 0.6615 - val_loss: 1.4139 - val_acc: 0.5247\n",
      "Epoch 31/100\n",
      "50000/50000 [==============================] - 13s 270us/step - loss: 0.9377 - acc: 0.6643 - val_loss: 1.3993 - val_acc: 0.5320\n",
      "Epoch 32/100\n",
      "50000/50000 [==============================] - 13s 261us/step - loss: 0.9151 - acc: 0.6738 - val_loss: 1.4287 - val_acc: 0.5203\n",
      "Epoch 33/100\n",
      "50000/50000 [==============================] - 13s 260us/step - loss: 0.9049 - acc: 0.6772 - val_loss: 1.4392 - val_acc: 0.5236\n",
      "Epoch 34/100\n",
      "50000/50000 [==============================] - 14s 276us/step - loss: 0.9003 - acc: 0.6805 - val_loss: 1.4785 - val_acc: 0.5236\n",
      "Epoch 35/100\n",
      "50000/50000 [==============================] - 14s 288us/step - loss: 0.8602 - acc: 0.6953 - val_loss: 1.4755 - val_acc: 0.5218\n",
      "Epoch 36/100\n",
      "50000/50000 [==============================] - 13s 256us/step - loss: 0.8505 - acc: 0.6962 - val_loss: 1.4942 - val_acc: 0.5232\n",
      "Epoch 37/100\n",
      "50000/50000 [==============================] - 12s 232us/step - loss: 0.8347 - acc: 0.7026 - val_loss: 1.4935 - val_acc: 0.5211\n",
      "Epoch 38/100\n",
      "50000/50000 [==============================] - 12s 237us/step - loss: 0.8235 - acc: 0.7051 - val_loss: 1.5198 - val_acc: 0.5212\n",
      "Epoch 39/100\n",
      "50000/50000 [==============================] - 12s 238us/step - loss: 0.8040 - acc: 0.7126 - val_loss: 1.5469 - val_acc: 0.5225\n",
      "Epoch 40/100\n",
      "50000/50000 [==============================] - 12s 247us/step - loss: 0.7864 - acc: 0.7174 - val_loss: 1.5550 - val_acc: 0.5325\n",
      "Epoch 41/100\n",
      "50000/50000 [==============================] - 12s 246us/step - loss: 0.7760 - acc: 0.7215 - val_loss: 1.5557 - val_acc: 0.5191\n",
      "Epoch 42/100\n",
      "50000/50000 [==============================] - 13s 257us/step - loss: 0.7642 - acc: 0.7256 - val_loss: 1.5641 - val_acc: 0.5294\n",
      "Epoch 43/100\n",
      "50000/50000 [==============================] - 13s 251us/step - loss: 0.7352 - acc: 0.7384 - val_loss: 1.5789 - val_acc: 0.5294\n",
      "Epoch 44/100\n",
      "50000/50000 [==============================] - 12s 234us/step - loss: 0.7225 - acc: 0.7415 - val_loss: 1.6417 - val_acc: 0.5167\n",
      "Epoch 45/100\n",
      "50000/50000 [==============================] - 12s 235us/step - loss: 0.7067 - acc: 0.7488 - val_loss: 1.6473 - val_acc: 0.5184\n",
      "Epoch 46/100\n",
      "50000/50000 [==============================] - 13s 262us/step - loss: 0.7025 - acc: 0.7496 - val_loss: 1.6879 - val_acc: 0.5242\n",
      "Epoch 47/100\n",
      "50000/50000 [==============================] - 12s 247us/step - loss: 0.6810 - acc: 0.7581 - val_loss: 1.6876 - val_acc: 0.5241\n",
      "Epoch 48/100\n",
      "50000/50000 [==============================] - 12s 246us/step - loss: 0.6784 - acc: 0.7578 - val_loss: 1.6996 - val_acc: 0.5258\n",
      "Epoch 49/100\n",
      "50000/50000 [==============================] - 12s 241us/step - loss: 0.6581 - acc: 0.7654 - val_loss: 1.7247 - val_acc: 0.5138\n",
      "Epoch 50/100\n",
      "50000/50000 [==============================] - 12s 240us/step - loss: 0.6435 - acc: 0.7699 - val_loss: 1.7797 - val_acc: 0.5161\n",
      "Epoch 51/100\n",
      "50000/50000 [==============================] - 12s 239us/step - loss: 0.6408 - acc: 0.7713 - val_loss: 1.7822 - val_acc: 0.5196\n",
      "Epoch 52/100\n",
      "50000/50000 [==============================] - 12s 235us/step - loss: 0.6159 - acc: 0.7795 - val_loss: 1.8001 - val_acc: 0.5089\n",
      "Epoch 53/100\n",
      "50000/50000 [==============================] - 12s 249us/step - loss: 0.6141 - acc: 0.7807 - val_loss: 1.8158 - val_acc: 0.5235\n",
      "Epoch 54/100\n",
      "50000/50000 [==============================] - 13s 256us/step - loss: 0.6001 - acc: 0.7865 - val_loss: 1.8451 - val_acc: 0.5182\n",
      "Epoch 55/100\n",
      "50000/50000 [==============================] - 12s 250us/step - loss: 0.5812 - acc: 0.7928 - val_loss: 1.9286 - val_acc: 0.5145\n",
      "Epoch 56/100\n",
      "50000/50000 [==============================] - 13s 251us/step - loss: 0.5795 - acc: 0.7917 - val_loss: 1.8689 - val_acc: 0.5199\n",
      "Epoch 57/100\n",
      "50000/50000 [==============================] - 12s 243us/step - loss: 0.5571 - acc: 0.8008 - val_loss: 2.0087 - val_acc: 0.5094\n",
      "Epoch 58/100\n",
      "50000/50000 [==============================] - 12s 244us/step - loss: 0.5616 - acc: 0.7993 - val_loss: 1.9286 - val_acc: 0.5172\n"
     ]
    },
    {
     "name": "stdout",
     "output_type": "stream",
     "text": [
      "Epoch 59/100\n",
      "50000/50000 [==============================] - 13s 253us/step - loss: 0.5464 - acc: 0.8052 - val_loss: 1.9504 - val_acc: 0.5181\n",
      "Epoch 60/100\n",
      "50000/50000 [==============================] - 13s 267us/step - loss: 0.5406 - acc: 0.8076 - val_loss: 1.9964 - val_acc: 0.5092\n",
      "Epoch 61/100\n",
      "50000/50000 [==============================] - 13s 267us/step - loss: 0.5250 - acc: 0.8122 - val_loss: 1.9956 - val_acc: 0.5073\n",
      "Epoch 62/100\n",
      "50000/50000 [==============================] - 14s 276us/step - loss: 0.5199 - acc: 0.8137 - val_loss: 2.0660 - val_acc: 0.5071\n",
      "Epoch 63/100\n",
      "50000/50000 [==============================] - 13s 260us/step - loss: 0.5059 - acc: 0.8188 - val_loss: 2.0900 - val_acc: 0.5053\n",
      "Epoch 64/100\n",
      "50000/50000 [==============================] - 12s 234us/step - loss: 0.4989 - acc: 0.8209 - val_loss: 2.1209 - val_acc: 0.5124\n",
      "Epoch 65/100\n",
      "50000/50000 [==============================] - 12s 234us/step - loss: 0.4788 - acc: 0.8295 - val_loss: 2.1695 - val_acc: 0.5134\n",
      "Epoch 66/100\n",
      "50000/50000 [==============================] - 12s 236us/step - loss: 0.4793 - acc: 0.8284 - val_loss: 2.1319 - val_acc: 0.5117\n",
      "Epoch 67/100\n",
      "50000/50000 [==============================] - 12s 238us/step - loss: 0.4701 - acc: 0.8338 - val_loss: 2.1564 - val_acc: 0.5125\n",
      "Epoch 68/100\n",
      "50000/50000 [==============================] - 12s 239us/step - loss: 0.4825 - acc: 0.8269 - val_loss: 2.2113 - val_acc: 0.5164\n",
      "Epoch 69/100\n",
      "50000/50000 [==============================] - 12s 240us/step - loss: 0.4432 - acc: 0.8425 - val_loss: 2.2920 - val_acc: 0.5134\n",
      "Epoch 70/100\n",
      "50000/50000 [==============================] - 12s 235us/step - loss: 0.4484 - acc: 0.8396 - val_loss: 2.2375 - val_acc: 0.5102\n",
      "Epoch 71/100\n",
      "50000/50000 [==============================] - 13s 261us/step - loss: 0.4562 - acc: 0.8369 - val_loss: 2.2996 - val_acc: 0.5047\n",
      "Epoch 72/100\n",
      "50000/50000 [==============================] - 14s 276us/step - loss: 0.4326 - acc: 0.8469 - val_loss: 2.2599 - val_acc: 0.5184\n",
      "Epoch 73/100\n",
      "50000/50000 [==============================] - 14s 276us/step - loss: 0.4331 - acc: 0.8446 - val_loss: 2.3862 - val_acc: 0.5068\n",
      "Epoch 74/100\n",
      "50000/50000 [==============================] - 14s 279us/step - loss: 0.4245 - acc: 0.8484 - val_loss: 2.4119 - val_acc: 0.5064\n",
      "Epoch 75/100\n",
      "50000/50000 [==============================] - 13s 268us/step - loss: 0.4155 - acc: 0.8504 - val_loss: 2.4052 - val_acc: 0.5133\n",
      "Epoch 76/100\n",
      "50000/50000 [==============================] - 14s 274us/step - loss: 0.4077 - acc: 0.8547 - val_loss: 2.4116 - val_acc: 0.5140\n",
      "Epoch 77/100\n",
      "50000/50000 [==============================] - 15s 302us/step - loss: 0.4074 - acc: 0.8550 - val_loss: 2.4175 - val_acc: 0.5149\n",
      "Epoch 78/100\n",
      "50000/50000 [==============================] - 16s 330us/step - loss: 0.3915 - acc: 0.8599 - val_loss: 2.4712 - val_acc: 0.5183\n",
      "Epoch 79/100\n",
      "50000/50000 [==============================] - 14s 277us/step - loss: 0.3796 - acc: 0.8644 - val_loss: 2.5348 - val_acc: 0.5008\n",
      "Epoch 80/100\n",
      "50000/50000 [==============================] - 14s 286us/step - loss: 0.3814 - acc: 0.8625 - val_loss: 2.5457 - val_acc: 0.5064\n",
      "Epoch 81/100\n",
      "50000/50000 [==============================] - 13s 264us/step - loss: 0.3772 - acc: 0.8658 - val_loss: 2.5240 - val_acc: 0.5129\n",
      "Epoch 82/100\n",
      "50000/50000 [==============================] - 14s 284us/step - loss: 0.3612 - acc: 0.8708 - val_loss: 2.5402 - val_acc: 0.5102\n",
      "Epoch 83/100\n",
      "50000/50000 [==============================] - 13s 264us/step - loss: 0.3708 - acc: 0.8676 - val_loss: 2.6033 - val_acc: 0.5132\n",
      "Epoch 84/100\n",
      "50000/50000 [==============================] - 14s 282us/step - loss: 0.3644 - acc: 0.8692 - val_loss: 2.5897 - val_acc: 0.5069\n",
      "Epoch 85/100\n",
      "50000/50000 [==============================] - 13s 260us/step - loss: 0.3561 - acc: 0.8727 - val_loss: 2.6300 - val_acc: 0.5080\n",
      "Epoch 86/100\n",
      "50000/50000 [==============================] - 14s 278us/step - loss: 0.3416 - acc: 0.8769 - val_loss: 2.6906 - val_acc: 0.5015\n",
      "Epoch 87/100\n",
      "50000/50000 [==============================] - 14s 281us/step - loss: 0.3381 - acc: 0.8793 - val_loss: 2.6878 - val_acc: 0.5024\n",
      "Epoch 88/100\n",
      "50000/50000 [==============================] - 14s 282us/step - loss: 0.3406 - acc: 0.8776 - val_loss: 2.7009 - val_acc: 0.5069\n",
      "Epoch 89/100\n",
      "50000/50000 [==============================] - 14s 281us/step - loss: 0.3525 - acc: 0.8739 - val_loss: 2.7774 - val_acc: 0.5041\n",
      "Epoch 90/100\n",
      "50000/50000 [==============================] - 13s 267us/step - loss: 0.3313 - acc: 0.8805 - val_loss: 2.7513 - val_acc: 0.5079\n",
      "Epoch 91/100\n",
      "50000/50000 [==============================] - 14s 273us/step - loss: 0.3350 - acc: 0.8813 - val_loss: 2.8570 - val_acc: 0.5058\n",
      "Epoch 92/100\n",
      "50000/50000 [==============================] - 15s 292us/step - loss: 0.3075 - acc: 0.8906 - val_loss: 2.8559 - val_acc: 0.5088\n",
      "Epoch 93/100\n",
      "50000/50000 [==============================] - 15s 293us/step - loss: 0.3144 - acc: 0.8870 - val_loss: 2.8475 - val_acc: 0.5069\n",
      "Epoch 94/100\n",
      "50000/50000 [==============================] - 14s 277us/step - loss: 0.3186 - acc: 0.8849 - val_loss: 2.8255 - val_acc: 0.5020\n",
      "Epoch 95/100\n",
      "50000/50000 [==============================] - 14s 278us/step - loss: 0.3413 - acc: 0.8789 - val_loss: 2.8999 - val_acc: 0.5012\n",
      "Epoch 96/100\n",
      "50000/50000 [==============================] - 14s 272us/step - loss: 0.2968 - acc: 0.8944 - val_loss: 2.8832 - val_acc: 0.5016\n",
      "Epoch 97/100\n",
      "50000/50000 [==============================] - 14s 280us/step - loss: 0.2940 - acc: 0.8944 - val_loss: 2.9705 - val_acc: 0.5084\n",
      "Epoch 98/100\n",
      "50000/50000 [==============================] - 14s 278us/step - loss: 0.2910 - acc: 0.8964 - val_loss: 2.9676 - val_acc: 0.5065\n",
      "Epoch 99/100\n",
      "50000/50000 [==============================] - 14s 275us/step - loss: 0.3061 - acc: 0.8905 - val_loss: 2.9632 - val_acc: 0.5030\n",
      "Epoch 100/100\n",
      "50000/50000 [==============================] - 13s 267us/step - loss: 0.2897 - acc: 0.8961 - val_loss: 2.9914 - val_acc: 0.5057\n"
     ]
    },
    {
     "data": {
      "text/plain": [
       "<keras.callbacks.History at 0x15a8023b588>"
      ]
     },
     "execution_count": 11,
     "metadata": {},
     "output_type": "execute_result"
    }
   ],
   "source": [
    "model.fit(x_train, y_train, \n",
    "          epochs=EPOCHS, \n",
    "          batch_size=BATCH_SIZE, \n",
    "          validation_data=(x_test, y_test), \n",
    "          shuffle=True)"
   ]
  },
  {
   "cell_type": "code",
   "execution_count": 13,
   "metadata": {},
   "outputs": [
    {
     "data": {
      "image/png": "[encoded data removed]",
      "text/plain": [
       "<Figure size 432x288 with 1 Axes>"
      ]
     },
     "metadata": {},
     "output_type": "display_data"
    }
   ],
   "source": [
    "import matplotlib.pyplot as plt\n",
    "\n",
    "\n",
    "train_loss = model.history.history[\"loss\"]\n",
    "valid_loss = model.history.history[\"val_loss\"]\n",
    "\n",
    "train_acc = model.history.history[\"acc\"]\n",
    "valid_acc = model.history.history[\"val_acc\"]\n",
    "\n",
    "plt.plot(range(len(train_loss)), train_loss, label=\"train loss\")\n",
    "plt.plot(range(len(valid_loss)), valid_loss, label=\"valid loss\")\n",
    "plt.legend()\n",
    "plt.title(\"Loss\")\n",
    "plt.show()\n",
    "\n"
   ]
  },
  {
   "cell_type": "code",
   "execution_count": 14,
   "metadata": {},
   "outputs": [
    {
     "data": {
      "image/png": "[encoded data removed]",
      "text/plain": [
       "<Figure size 432x288 with 1 Axes>"
      ]
     },
     "metadata": {},
     "output_type": "display_data"
    }
   ],
   "source": [
    "plt.plot(range(len(train_acc)), train_acc, label=\"train accuracy\")\n",
    "plt.plot(range(len(valid_acc)), valid_acc, label=\"valid accuracy\")\n",
    "plt.legend()\n",
    "plt.title(\"Accuracy\")\n",
    "plt.show()"
   ]
  },
  {
   "cell_type": "code",
   "execution_count": null,
   "metadata": {},
   "outputs": [],
   "source": []
  }
 ],
 "metadata": {
  "kernelspec": {
   "display_name": "Python 3",
   "language": "python",
   "name": "python3"
  },
  "language_info": {
   "codemirror_mode": {
    "name": "ipython",
    "version": 3
   },
   "file_extension": ".py",
   "mimetype": "text/x-python",
   "name": "python",
   "nbconvert_exporter": "python",
   "pygments_lexer": "ipython3",
   "version": "3.6.7"
  }
 },
 "nbformat": 4,
 "nbformat_minor": 2
}
