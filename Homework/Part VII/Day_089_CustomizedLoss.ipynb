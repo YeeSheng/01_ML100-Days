{
 "cells": [
  {
   "cell_type": "code",
   "execution_count": 1,
   "metadata": {},
   "outputs": [
    {
     "name": "stderr",
     "output_type": "stream",
     "text": [
      "C:\\Python\\Anaconda3\\lib\\site-packages\\h5py\\__init__.py:36: FutureWarning: Conversion of the second argument of issubdtype from `float` to `np.floating` is deprecated. In future, it will be treated as `np.float64 == np.dtype(float).type`.\n",
      "  from ._conv import register_converters as _register_converters\n",
      "Using TensorFlow backend.\n"
     ]
    }
   ],
   "source": [
    "import os\n",
    "import keras\n",
    "\n",
    "# Disable GPU\n",
    "os.environ[\"CUDA_VISIBLE_DEVICES\"] = \"\""
   ]
  },
  {
   "cell_type": "code",
   "execution_count": 2,
   "metadata": {
    "collapsed": true
   },
   "outputs": [],
   "source": [
    "train, test = keras.datasets.cifar10.load_data()"
   ]
  },
  {
   "cell_type": "code",
   "execution_count": 3,
   "metadata": {
    "collapsed": true
   },
   "outputs": [],
   "source": [
    "## 資料前處理\n",
    "def preproc_x(x, flatten=True):\n",
    "    x = x / 255.\n",
    "    if flatten:\n",
    "        x = x.reshape((len(x), -1))\n",
    "    return x\n",
    "\n",
    "def preproc_y(y, num_classes=10):\n",
    "    if y.shape[-1] == 1:\n",
    "        y = keras.utils.to_categorical(y, num_classes)\n",
    "    return y    "
   ]
  },
  {
   "cell_type": "code",
   "execution_count": 4,
   "metadata": {
    "collapsed": true
   },
   "outputs": [],
   "source": [
    "x_train, y_train = train\n",
    "x_test, y_test = test\n",
    "\n",
    "# Preproc the inputs\n",
    "x_train = preproc_x(x_train)\n",
    "x_test = preproc_x(x_test)\n",
    "\n",
    "# Preprc the outputs\n",
    "y_train = preproc_y(y_train)\n",
    "y_test = preproc_y(y_test)"
   ]
  },
  {
   "cell_type": "code",
   "execution_count": 5,
   "metadata": {
    "collapsed": true
   },
   "outputs": [],
   "source": [
    "from keras.layers import BatchNormalization\n",
    "def build_mlp(input_shape, output_units=10, num_neurons=[512, 256, 128]):\n",
    "    input_layer = keras.layers.Input(input_shape)\n",
    "    \n",
    "    for i, n_units in enumerate(num_neurons):\n",
    "        if i == 0:\n",
    "            x = keras.layers.Dense(units=n_units, \n",
    "                                   activation=\"relu\", \n",
    "                                   name=\"hidden_layer\"+str(i+1))(input_layer)\n",
    "            x = BatchNormalization()(x)\n",
    "        else:\n",
    "            x = keras.layers.Dense(units=n_units, \n",
    "                                   activation=\"relu\", \n",
    "                                   name=\"hidden_layer\"+str(i+1))(x)\n",
    "            x = BatchNormalization()(x)\n",
    "    \n",
    "    out = keras.layers.Dense(units=output_units, activation=\"softmax\", name=\"output\")(x)\n",
    "    \n",
    "    model = keras.models.Model(inputs=[input_layer], outputs=[out])\n",
    "    return model"
   ]
  },
  {
   "cell_type": "code",
   "execution_count": 6,
   "metadata": {
    "collapsed": true
   },
   "outputs": [],
   "source": [
    "## 超參數設定\n",
    "LEARNING_RATE = 1e-3\n",
    "EPOCHS = 50\n",
    "BATCH_SIZE = 1024\n",
    "MOMENTUM = 0.95"
   ]
  },
  {
   "cell_type": "code",
   "execution_count": 7,
   "metadata": {
    "collapsed": true
   },
   "outputs": [],
   "source": [
    "import tensorflow as tf\n",
    "import keras.backend as K\n",
    "\n",
    "def focal_loss(gamma=2., alpha=4.):\n",
    "    gamma = float(gamma)\n",
    "    alpha = float(alpha)\n",
    "    def focal_loss_fixed(y_true, y_pred):\n",
    "        \"\"\"Focal loss for multi-classification\n",
    "        FL(p_t)=-alpha(1-p_t)^{gamma}ln(p_t)\n",
    "        \"\"\"\n",
    "        epsilon = 1e-8\n",
    "        y_true = tf.convert_to_tensor(y_true, tf.float32)\n",
    "        y_pred = tf.convert_to_tensor(y_pred, tf.float32)\n",
    "\n",
    "        model_out = tf.add(y_pred, epsilon)\n",
    "        ce = tf.multiply(y_true, -tf.log(model_out))\n",
    "        weight = tf.multiply(y_true, tf.pow(tf.subtract(1., model_out), gamma))\n",
    "        fl = tf.multiply(alpha, tf.multiply(weight, ce))\n",
    "        reduced_fl = tf.reduce_max(fl, axis=1)\n",
    "        return tf.reduce_mean(reduced_fl)\n",
    "    return focal_loss_fixed"
   ]
  },
  {
   "cell_type": "code",
   "execution_count": 8,
   "metadata": {
    "scrolled": true
   },
   "outputs": [
    {
     "name": "stdout",
     "output_type": "stream",
     "text": [
      "_________________________________________________________________\n",
      "Layer (type)                 Output Shape              Param #   \n",
      "=================================================================\n",
      "input_1 (InputLayer)         (None, 3072)              0         \n",
      "_________________________________________________________________\n",
      "hidden_layer1 (Dense)        (None, 512)               1573376   \n",
      "_________________________________________________________________\n",
      "batch_normalization_1 (Batch (None, 512)               2048      \n",
      "_________________________________________________________________\n",
      "hidden_layer2 (Dense)        (None, 256)               131328    \n",
      "_________________________________________________________________\n",
      "batch_normalization_2 (Batch (None, 256)               1024      \n",
      "_________________________________________________________________\n",
      "hidden_layer3 (Dense)        (None, 128)               32896     \n",
      "_________________________________________________________________\n",
      "batch_normalization_3 (Batch (None, 128)               512       \n",
      "_________________________________________________________________\n",
      "output (Dense)               (None, 10)                1290      \n",
      "=================================================================\n",
      "Total params: 1,742,474\n",
      "Trainable params: 1,740,682\n",
      "Non-trainable params: 1,792\n",
      "_________________________________________________________________\n",
      "Train on 50000 samples, validate on 10000 samples\n",
      "Epoch 1/50\n",
      "50000/50000 [==============================] - 4s 79us/step - loss: 5.9737 - acc: 0.3397 - val_loss: 6.0516 - val_acc: 0.3460\n",
      "Epoch 2/50\n",
      "50000/50000 [==============================] - 2s 36us/step - loss: 4.3495 - acc: 0.4480 - val_loss: 4.8796 - val_acc: 0.3945\n",
      "Epoch 3/50\n",
      "50000/50000 [==============================] - 2s 36us/step - loss: 3.9124 - acc: 0.4871 - val_loss: 4.5027 - val_acc: 0.4287\n",
      "Epoch 4/50\n",
      "50000/50000 [==============================] - 2s 37us/step - loss: 3.6444 - acc: 0.5148 - val_loss: 4.2672 - val_acc: 0.4392\n",
      "Epoch 5/50\n",
      "50000/50000 [==============================] - 2s 36us/step - loss: 3.4310 - acc: 0.5378 - val_loss: 4.0616 - val_acc: 0.4682\n",
      "Epoch 6/50\n",
      "50000/50000 [==============================] - 2s 36us/step - loss: 3.2489 - acc: 0.5564 - val_loss: 4.1789 - val_acc: 0.4521\n",
      "Epoch 7/50\n",
      "50000/50000 [==============================] - 2s 36us/step - loss: 3.0854 - acc: 0.5725 - val_loss: 4.0711 - val_acc: 0.4646\n",
      "Epoch 8/50\n",
      "50000/50000 [==============================] - 2s 35us/step - loss: 2.9355 - acc: 0.5891 - val_loss: 3.9722 - val_acc: 0.4817\n",
      "Epoch 9/50\n",
      "50000/50000 [==============================] - 2s 36us/step - loss: 2.7896 - acc: 0.6041 - val_loss: 4.0179 - val_acc: 0.4733\n",
      "Epoch 10/50\n",
      "50000/50000 [==============================] - 2s 36us/step - loss: 2.6512 - acc: 0.6199 - val_loss: 3.9317 - val_acc: 0.4822\n",
      "Epoch 11/50\n",
      "50000/50000 [==============================] - 2s 35us/step - loss: 2.5228 - acc: 0.6334 - val_loss: 3.9167 - val_acc: 0.4891\n",
      "Epoch 12/50\n",
      "50000/50000 [==============================] - 2s 36us/step - loss: 2.3860 - acc: 0.6511 - val_loss: 4.1102 - val_acc: 0.4708\n",
      "Epoch 13/50\n",
      "50000/50000 [==============================] - 2s 36us/step - loss: 2.2652 - acc: 0.6644 - val_loss: 4.0203 - val_acc: 0.4787\n",
      "Epoch 14/50\n",
      "50000/50000 [==============================] - 2s 35us/step - loss: 2.1451 - acc: 0.6784 - val_loss: 4.1407 - val_acc: 0.4731\n",
      "Epoch 15/50\n",
      "50000/50000 [==============================] - 2s 35us/step - loss: 2.0341 - acc: 0.6899 - val_loss: 4.1595 - val_acc: 0.4736\n",
      "Epoch 16/50\n",
      "50000/50000 [==============================] - 2s 36us/step - loss: 1.9233 - acc: 0.7025 - val_loss: 4.1624 - val_acc: 0.4838\n",
      "Epoch 17/50\n",
      "50000/50000 [==============================] - 2s 35us/step - loss: 1.8161 - acc: 0.7178 - val_loss: 4.1893 - val_acc: 0.4831\n",
      "Epoch 18/50\n",
      "50000/50000 [==============================] - 2s 36us/step - loss: 1.6951 - acc: 0.7324 - val_loss: 4.2583 - val_acc: 0.4747\n",
      "Epoch 19/50\n",
      "50000/50000 [==============================] - 2s 35us/step - loss: 1.5908 - acc: 0.7463 - val_loss: 4.2443 - val_acc: 0.4802\n",
      "Epoch 20/50\n",
      "50000/50000 [==============================] - 2s 35us/step - loss: 1.5018 - acc: 0.7567 - val_loss: 4.3288 - val_acc: 0.4803\n",
      "Epoch 21/50\n",
      "50000/50000 [==============================] - 2s 35us/step - loss: 1.3993 - acc: 0.7731 - val_loss: 4.3290 - val_acc: 0.4786\n",
      "Epoch 22/50\n",
      "50000/50000 [==============================] - 2s 36us/step - loss: 1.2968 - acc: 0.7866 - val_loss: 4.3845 - val_acc: 0.4812\n",
      "Epoch 23/50\n",
      "50000/50000 [==============================] - 2s 35us/step - loss: 1.2108 - acc: 0.7973 - val_loss: 4.5431 - val_acc: 0.4717\n",
      "Epoch 24/50\n",
      "50000/50000 [==============================] - 2s 35us/step - loss: 1.1138 - acc: 0.8130 - val_loss: 4.5431 - val_acc: 0.4810\n",
      "Epoch 25/50\n",
      "50000/50000 [==============================] - 2s 35us/step - loss: 1.0313 - acc: 0.8247 - val_loss: 4.6050 - val_acc: 0.4822\n",
      "Epoch 26/50\n",
      "50000/50000 [==============================] - 2s 36us/step - loss: 0.9574 - acc: 0.8352 - val_loss: 4.8782 - val_acc: 0.4714\n",
      "Epoch 27/50\n",
      "50000/50000 [==============================] - 2s 36us/step - loss: 0.8768 - acc: 0.8510 - val_loss: 4.8842 - val_acc: 0.4696\n",
      "Epoch 28/50\n",
      "50000/50000 [==============================] - 2s 36us/step - loss: 0.8086 - acc: 0.8592 - val_loss: 4.9311 - val_acc: 0.4693\n",
      "Epoch 29/50\n",
      "50000/50000 [==============================] - 2s 36us/step - loss: 0.7355 - acc: 0.8717 - val_loss: 5.0115 - val_acc: 0.4762\n",
      "Epoch 30/50\n",
      "50000/50000 [==============================] - 2s 36us/step - loss: 0.6703 - acc: 0.8836 - val_loss: 5.0261 - val_acc: 0.4720\n",
      "Epoch 31/50\n",
      "50000/50000 [==============================] - 2s 36us/step - loss: 0.6078 - acc: 0.8950 - val_loss: 5.1038 - val_acc: 0.4781\n",
      "Epoch 32/50\n",
      "50000/50000 [==============================] - 2s 36us/step - loss: 0.5438 - acc: 0.9065 - val_loss: 5.2192 - val_acc: 0.4731\n",
      "Epoch 33/50\n",
      "50000/50000 [==============================] - 2s 36us/step - loss: 0.5070 - acc: 0.9122 - val_loss: 5.2523 - val_acc: 0.4812\n",
      "Epoch 34/50\n",
      "50000/50000 [==============================] - 2s 36us/step - loss: 0.4582 - acc: 0.9211 - val_loss: 5.5631 - val_acc: 0.4681\n",
      "Epoch 35/50\n",
      "50000/50000 [==============================] - 2s 36us/step - loss: 0.4102 - acc: 0.9312 - val_loss: 5.4234 - val_acc: 0.4741\n",
      "Epoch 36/50\n",
      "50000/50000 [==============================] - 2s 35us/step - loss: 0.3660 - acc: 0.9390 - val_loss: 5.6209 - val_acc: 0.4687\n",
      "Epoch 37/50\n",
      "50000/50000 [==============================] - 2s 35us/step - loss: 0.3309 - acc: 0.9471 - val_loss: 5.6116 - val_acc: 0.4665\n",
      "Epoch 38/50\n",
      "50000/50000 [==============================] - 2s 35us/step - loss: 0.2989 - acc: 0.9524 - val_loss: 5.8451 - val_acc: 0.4723\n",
      "Epoch 39/50\n",
      "50000/50000 [==============================] - 2s 36us/step - loss: 0.2671 - acc: 0.9595 - val_loss: 5.7284 - val_acc: 0.4826\n",
      "Epoch 40/50\n",
      "50000/50000 [==============================] - 2s 36us/step - loss: 0.2382 - acc: 0.9655 - val_loss: 5.7646 - val_acc: 0.4773\n",
      "Epoch 41/50\n",
      "50000/50000 [==============================] - 2s 35us/step - loss: 0.2213 - acc: 0.9681 - val_loss: 5.9477 - val_acc: 0.4718\n",
      "Epoch 42/50\n",
      "50000/50000 [==============================] - 2s 35us/step - loss: 0.1935 - acc: 0.9734 - val_loss: 5.9264 - val_acc: 0.4733\n",
      "Epoch 43/50\n",
      "50000/50000 [==============================] - 2s 36us/step - loss: 0.1746 - acc: 0.9783 - val_loss: 5.9386 - val_acc: 0.4809\n",
      "Epoch 44/50\n",
      "50000/50000 [==============================] - 2s 36us/step - loss: 0.1587 - acc: 0.9798 - val_loss: 6.0881 - val_acc: 0.4701\n",
      "Epoch 45/50\n",
      "50000/50000 [==============================] - 2s 36us/step - loss: 0.1426 - acc: 0.9844 - val_loss: 6.1232 - val_acc: 0.4741\n",
      "Epoch 46/50\n",
      "50000/50000 [==============================] - 2s 36us/step - loss: 0.1268 - acc: 0.9865 - val_loss: 6.1558 - val_acc: 0.4740\n",
      "Epoch 47/50\n",
      "50000/50000 [==============================] - 2s 35us/step - loss: 0.1160 - acc: 0.9884 - val_loss: 6.2851 - val_acc: 0.4766\n",
      "Epoch 48/50\n",
      "50000/50000 [==============================] - 2s 36us/step - loss: 0.1026 - acc: 0.9911 - val_loss: 6.2873 - val_acc: 0.4774\n",
      "Epoch 49/50\n",
      "50000/50000 [==============================] - 2s 36us/step - loss: 0.0956 - acc: 0.9919 - val_loss: 6.3776 - val_acc: 0.4777\n"
     ]
    },
    {
     "name": "stdout",
     "output_type": "stream",
     "text": [
      "Epoch 50/50\n",
      "50000/50000 [==============================] - 2s 35us/step - loss: 0.0879 - acc: 0.9927 - val_loss: 6.4172 - val_acc: 0.4758\n"
     ]
    }
   ],
   "source": [
    "model = build_mlp(input_shape=x_train.shape[1:])\n",
    "model.summary()\n",
    "optimizer = keras.optimizers.SGD(lr=LEARNING_RATE, nesterov=True, momentum=MOMENTUM)\n",
    "model.compile(loss=focal_loss(), metrics=[\"accuracy\"], optimizer=optimizer)\n",
    "\n",
    "model.fit(x_train, y_train, \n",
    "          epochs=EPOCHS, \n",
    "          batch_size=BATCH_SIZE, \n",
    "          validation_data=(x_test, y_test), \n",
    "          shuffle=True\n",
    "         )\n",
    "\n",
    "# Collect results\n",
    "train_loss = model.history.history[\"loss\"]\n",
    "valid_loss = model.history.history[\"val_loss\"]\n",
    "train_acc = model.history.history[\"acc\"]\n",
    "valid_acc = model.history.history[\"val_acc\"]"
   ]
  },
  {
   "cell_type": "code",
   "execution_count": 9,
   "metadata": {},
   "outputs": [
    {
     "data": {
      "image/png": "[encoded data removed]",
      "text/plain": [
       "<matplotlib.figure.Figure at 0x21baff35710>"
      ]
     },
     "metadata": {},
     "output_type": "display_data"
    },
    {
     "data": {
      "image/png": "[encoded data removed]",
      "text/plain": [
       "<matplotlib.figure.Figure at 0x21bbd45c6d8>"
      ]
     },
     "metadata": {},
     "output_type": "display_data"
    }
   ],
   "source": [
    "import matplotlib.pyplot as plt\n",
    "%matplotlib inline\n",
    "\n",
    "plt.plot(range(len(train_loss)), train_loss, label=\"train loss\")\n",
    "plt.plot(range(len(valid_loss)), valid_loss, label=\"valid loss\")\n",
    "plt.legend()\n",
    "plt.title(\"Loss\")\n",
    "plt.show()\n",
    "\n",
    "plt.plot(range(len(train_acc)), train_acc, label=\"train accuracy\")\n",
    "plt.plot(range(len(valid_acc)), valid_acc, label=\"valid accuracy\")\n",
    "plt.legend()\n",
    "plt.title(\"Accuracy\")\n",
    "plt.show()"
   ]
  },
  {
   "cell_type": "markdown",
   "metadata": {},
   "source": [
    "## Work\n",
    "1. 請自行定義一個 loss function, 為 0.3 * focal loss + 0.7 cross-entropy，訓練並比較結果\n"
   ]
  },
  {
   "cell_type": "code",
   "execution_count": null,
   "metadata": {
    "collapsed": true
   },
   "outputs": [],
   "source": []
  }
 ],
 "metadata": {
  "kernelspec": {
   "display_name": "Python 3",
   "language": "python",
   "name": "python3"
  },
  "language_info": {
   "codemirror_mode": {
    "name": "ipython",
    "version": 3
   },
   "file_extension": ".py",
   "mimetype": "text/x-python",
   "name": "python",
   "nbconvert_exporter": "python",
   "pygments_lexer": "ipython3",
   "version": "3.6.5"
  }
 },
 "nbformat": 4,
 "nbformat_minor": 2
}
