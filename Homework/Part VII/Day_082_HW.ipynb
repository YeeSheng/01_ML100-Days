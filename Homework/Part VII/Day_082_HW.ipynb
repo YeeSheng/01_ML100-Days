{
 "cells": [
  {
   "cell_type": "markdown",
   "metadata": {},
   "source": [
    "## Work\n",
    "1. 請比較使用不同層數以及不同 Dropout rate 對訓練的效果\n",
    "2. 將 optimizer 改成使用 Adam 並加上適當的 dropout rate 檢視結果"
   ]
  },
  {
   "cell_type": "code",
   "execution_count": 1,
   "metadata": {},
   "outputs": [
    {
     "name": "stderr",
     "output_type": "stream",
     "text": [
      "Using TensorFlow backend.\n"
     ]
    }
   ],
   "source": [
    "import os\n",
    "import keras\n",
    "import itertools\n",
    "# Disable GPU\n",
    "os.environ[\"CUDA_VISIBLE_DEVICES\"] = \"\""
   ]
  },
  {
   "cell_type": "code",
   "execution_count": 2,
   "metadata": {},
   "outputs": [],
   "source": [
    "train, test = keras.datasets.cifar10.load_data()"
   ]
  },
  {
   "cell_type": "code",
   "execution_count": 3,
   "metadata": {},
   "outputs": [],
   "source": [
    "## 資料前處理\n",
    "def preproc_x(x, flatten=True):\n",
    "    x = x / 255.\n",
    "    if flatten:\n",
    "        x = x.reshape((len(x), -1))\n",
    "    return x\n",
    "\n",
    "def preproc_y(y, num_classes=10):\n",
    "    if y.shape[-1] == 1:\n",
    "        y = keras.utils.to_categorical(y, num_classes)\n",
    "    return y    "
   ]
  },
  {
   "cell_type": "code",
   "execution_count": 4,
   "metadata": {},
   "outputs": [],
   "source": [
    "x_train, y_train = train\n",
    "x_test, y_test = test\n",
    "\n",
    "# Preproc the inputs\n",
    "x_train = preproc_x(x_train)\n",
    "x_test = preproc_x(x_test)\n",
    "\n",
    "# Preprc the outputs\n",
    "y_train = preproc_y(y_train)\n",
    "y_test = preproc_y(y_test)"
   ]
  },
  {
   "cell_type": "code",
   "execution_count": 5,
   "metadata": {},
   "outputs": [],
   "source": [
    "from keras.layers import Dropout\n",
    "def build_mlp(input_shape, output_units=10, num_neurons=[512, 256, 128], drp_ratio=0.2):\n",
    "    input_layer = keras.layers.Input(input_shape)\n",
    "    \n",
    "    for i, n_units in enumerate(num_neurons):\n",
    "        if i == 0:\n",
    "            x = keras.layers.Dense(units=n_units, \n",
    "                                   activation=\"relu\", \n",
    "                                   name=\"hidden_layer\"+str(i+1))(input_layer)\n",
    "            x = Dropout(drp_ratio)(x)\n",
    "        else:\n",
    "            x = keras.layers.Dense(units=n_units, \n",
    "                                   activation=\"relu\", \n",
    "                                   name=\"hidden_layer\"+str(i+1))(x)\n",
    "            x = Dropout(drp_ratio)(x)\n",
    "    \n",
    "    out = keras.layers.Dense(units=output_units, activation=\"softmax\", name=\"output\")(x)\n",
    "    \n",
    "    model = keras.models.Model(inputs=[input_layer], outputs=[out])\n",
    "    return model"
   ]
  },
  {
   "cell_type": "code",
   "execution_count": 6,
   "metadata": {},
   "outputs": [],
   "source": [
    "## 超參數設定\n",
    "#LEARNING_RATE = 1e-3\n",
    "EPOCHS = 50\n",
    "BATCH_SIZE = 256\n",
    "#MOMENTUM = 0.95\n",
    "Dropout_EXP = 0.25"
   ]
  },
  {
   "cell_type": "markdown",
   "metadata": {},
   "source": [
    "## Adam"
   ]
  },
  {
   "cell_type": "code",
   "execution_count": 9,
   "metadata": {
    "scrolled": true
   },
   "outputs": [
    {
     "name": "stdout",
     "output_type": "stream",
     "text": [
      "_________________________________________________________________\n",
      "Layer (type)                 Output Shape              Param #   \n",
      "=================================================================\n",
      "input_3 (InputLayer)         (None, 3072)              0         \n",
      "_________________________________________________________________\n",
      "hidden_layer1 (Dense)        (None, 512)               1573376   \n",
      "_________________________________________________________________\n",
      "dropout_7 (Dropout)          (None, 512)               0         \n",
      "_________________________________________________________________\n",
      "hidden_layer2 (Dense)        (None, 256)               131328    \n",
      "_________________________________________________________________\n",
      "dropout_8 (Dropout)          (None, 256)               0         \n",
      "_________________________________________________________________\n",
      "hidden_layer3 (Dense)        (None, 128)               32896     \n",
      "_________________________________________________________________\n",
      "dropout_9 (Dropout)          (None, 128)               0         \n",
      "_________________________________________________________________\n",
      "output (Dense)               (None, 10)                1290      \n",
      "=================================================================\n",
      "Total params: 1,738,890\n",
      "Trainable params: 1,738,890\n",
      "Non-trainable params: 0\n",
      "_________________________________________________________________\n",
      "Train on 50000 samples, validate on 10000 samples\n",
      "Epoch 1/50\n",
      "50000/50000 [==============================] - 18s 361us/step - loss: 2.0634 - acc: 0.2373 - val_loss: 1.8717 - val_acc: 0.3237\n",
      "Epoch 2/50\n",
      "50000/50000 [==============================] - 12s 245us/step - loss: 1.8804 - acc: 0.3155 - val_loss: 1.7761 - val_acc: 0.3617\n",
      "Epoch 3/50\n",
      "50000/50000 [==============================] - 12s 231us/step - loss: 1.8332 - acc: 0.3342 - val_loss: 1.7020 - val_acc: 0.3892\n",
      "Epoch 4/50\n",
      "50000/50000 [==============================] - 11s 222us/step - loss: 1.7888 - acc: 0.3515 - val_loss: 1.6836 - val_acc: 0.4072\n",
      "Epoch 5/50\n",
      "50000/50000 [==============================] - 12s 232us/step - loss: 1.7551 - acc: 0.3628 - val_loss: 1.6596 - val_acc: 0.4071\n",
      "Epoch 6/50\n",
      "50000/50000 [==============================] - 12s 245us/step - loss: 1.7441 - acc: 0.3674 - val_loss: 1.6364 - val_acc: 0.4242\n",
      "Epoch 7/50\n",
      "50000/50000 [==============================] - 12s 245us/step - loss: 1.7251 - acc: 0.3764 - val_loss: 1.6150 - val_acc: 0.4309\n",
      "Epoch 8/50\n",
      "50000/50000 [==============================] - 12s 243us/step - loss: 1.7060 - acc: 0.3825 - val_loss: 1.6317 - val_acc: 0.4223\n",
      "Epoch 9/50\n",
      "50000/50000 [==============================] - 12s 238us/step - loss: 1.6935 - acc: 0.3899 - val_loss: 1.6061 - val_acc: 0.4296\n",
      "Epoch 10/50\n",
      "50000/50000 [==============================] - 12s 235us/step - loss: 1.6780 - acc: 0.3940 - val_loss: 1.6338 - val_acc: 0.4177\n",
      "Epoch 11/50\n",
      "50000/50000 [==============================] - 12s 235us/step - loss: 1.6654 - acc: 0.3983 - val_loss: 1.5879 - val_acc: 0.4444\n",
      "Epoch 12/50\n",
      "50000/50000 [==============================] - 11s 230us/step - loss: 1.6531 - acc: 0.4043 - val_loss: 1.5669 - val_acc: 0.4489\n",
      "Epoch 13/50\n",
      "50000/50000 [==============================] - 12s 247us/step - loss: 1.6491 - acc: 0.4052 - val_loss: 1.5792 - val_acc: 0.4455\n",
      "Epoch 14/50\n",
      "50000/50000 [==============================] - 12s 236us/step - loss: 1.6441 - acc: 0.4051 - val_loss: 1.5575 - val_acc: 0.4527\n",
      "Epoch 15/50\n",
      "50000/50000 [==============================] - 12s 236us/step - loss: 1.6308 - acc: 0.4146 - val_loss: 1.5474 - val_acc: 0.4619\n",
      "Epoch 16/50\n",
      "50000/50000 [==============================] - 12s 242us/step - loss: 1.6206 - acc: 0.4145 - val_loss: 1.5467 - val_acc: 0.4536\n",
      "Epoch 17/50\n",
      "50000/50000 [==============================] - 12s 233us/step - loss: 1.6143 - acc: 0.4176 - val_loss: 1.5695 - val_acc: 0.4538\n",
      "Epoch 18/50\n",
      "50000/50000 [==============================] - 11s 225us/step - loss: 1.6056 - acc: 0.4200 - val_loss: 1.5478 - val_acc: 0.4470\n",
      "Epoch 19/50\n",
      "50000/50000 [==============================] - 11s 228us/step - loss: 1.6093 - acc: 0.4199 - val_loss: 1.5304 - val_acc: 0.4575\n",
      "Epoch 20/50\n",
      "50000/50000 [==============================] - 12s 247us/step - loss: 1.5947 - acc: 0.4249 - val_loss: 1.5634 - val_acc: 0.4506\n",
      "Epoch 21/50\n",
      "50000/50000 [==============================] - 11s 222us/step - loss: 1.5862 - acc: 0.4274 - val_loss: 1.5532 - val_acc: 0.4505\n",
      "Epoch 22/50\n",
      "50000/50000 [==============================] - 11s 213us/step - loss: 1.5886 - acc: 0.4286 - val_loss: 1.5283 - val_acc: 0.4600\n",
      "Epoch 23/50\n",
      "50000/50000 [==============================] - 11s 217us/step - loss: 1.5720 - acc: 0.4346 - val_loss: 1.5116 - val_acc: 0.4701\n",
      "Epoch 24/50\n",
      "50000/50000 [==============================] - 11s 214us/step - loss: 1.5662 - acc: 0.4360 - val_loss: 1.5206 - val_acc: 0.4664\n",
      "Epoch 25/50\n",
      "50000/50000 [==============================] - 11s 228us/step - loss: 1.5725 - acc: 0.4336 - val_loss: 1.5074 - val_acc: 0.4659\n",
      "Epoch 26/50\n",
      "50000/50000 [==============================] - 12s 230us/step - loss: 1.5625 - acc: 0.4365 - val_loss: 1.5195 - val_acc: 0.4608\n",
      "Epoch 27/50\n",
      "50000/50000 [==============================] - 11s 228us/step - loss: 1.5573 - acc: 0.4411 - val_loss: 1.5093 - val_acc: 0.4637\n",
      "Epoch 28/50\n",
      "50000/50000 [==============================] - 13s 252us/step - loss: 1.5473 - acc: 0.4409 - val_loss: 1.4902 - val_acc: 0.4824\n",
      "Epoch 29/50\n",
      "50000/50000 [==============================] - 11s 214us/step - loss: 1.5427 - acc: 0.4443 - val_loss: 1.5004 - val_acc: 0.4659\n",
      "Epoch 30/50\n",
      "50000/50000 [==============================] - 11s 214us/step - loss: 1.5480 - acc: 0.4420 - val_loss: 1.4931 - val_acc: 0.4693\n",
      "Epoch 31/50\n",
      "50000/50000 [==============================] - 11s 213us/step - loss: 1.5424 - acc: 0.4428 - val_loss: 1.4661 - val_acc: 0.4859\n",
      "Epoch 32/50\n",
      "50000/50000 [==============================] - 11s 212us/step - loss: 1.5359 - acc: 0.4456 - val_loss: 1.4945 - val_acc: 0.4714\n",
      "Epoch 33/50\n",
      "50000/50000 [==============================] - 11s 212us/step - loss: 1.5315 - acc: 0.4511 - val_loss: 1.4895 - val_acc: 0.4770\n",
      "Epoch 34/50\n",
      "50000/50000 [==============================] - 11s 212us/step - loss: 1.5252 - acc: 0.4526 - val_loss: 1.4783 - val_acc: 0.4815\n",
      "Epoch 35/50\n",
      "50000/50000 [==============================] - 11s 213us/step - loss: 1.5291 - acc: 0.4487 - val_loss: 1.4868 - val_acc: 0.4771\n",
      "Epoch 36/50\n",
      "50000/50000 [==============================] - 11s 214us/step - loss: 1.5148 - acc: 0.4556 - val_loss: 1.5046 - val_acc: 0.4735\n",
      "Epoch 37/50\n",
      "50000/50000 [==============================] - 11s 218us/step - loss: 1.5145 - acc: 0.4524 - val_loss: 1.4590 - val_acc: 0.4857\n",
      "Epoch 38/50\n",
      "50000/50000 [==============================] - 11s 217us/step - loss: 1.5226 - acc: 0.4507 - val_loss: 1.4724 - val_acc: 0.4813\n",
      "Epoch 39/50\n",
      "50000/50000 [==============================] - 11s 214us/step - loss: 1.5118 - acc: 0.4557 - val_loss: 1.4564 - val_acc: 0.4816\n",
      "Epoch 40/50\n",
      "50000/50000 [==============================] - 11s 213us/step - loss: 1.5049 - acc: 0.4583 - val_loss: 1.4597 - val_acc: 0.4859\n",
      "Epoch 41/50\n",
      "50000/50000 [==============================] - 11s 213us/step - loss: 1.5068 - acc: 0.4569 - val_loss: 1.4685 - val_acc: 0.4796\n",
      "Epoch 42/50\n",
      "50000/50000 [==============================] - 11s 212us/step - loss: 1.5070 - acc: 0.4566 - val_loss: 1.4873 - val_acc: 0.4763\n",
      "Epoch 43/50\n",
      "50000/50000 [==============================] - 11s 216us/step - loss: 1.5003 - acc: 0.4585 - val_loss: 1.4673 - val_acc: 0.4780\n",
      "Epoch 44/50\n",
      "50000/50000 [==============================] - 11s 212us/step - loss: 1.4983 - acc: 0.4619 - val_loss: 1.4497 - val_acc: 0.4859\n",
      "Epoch 45/50\n",
      "50000/50000 [==============================] - 11s 213us/step - loss: 1.5003 - acc: 0.4606 - val_loss: 1.4812 - val_acc: 0.4752\n",
      "Epoch 46/50\n",
      "50000/50000 [==============================] - 11s 212us/step - loss: 1.4845 - acc: 0.4650 - val_loss: 1.4969 - val_acc: 0.4724\n",
      "Epoch 47/50\n",
      "50000/50000 [==============================] - 11s 215us/step - loss: 1.4871 - acc: 0.4626 - val_loss: 1.4629 - val_acc: 0.4812\n",
      "Epoch 48/50\n",
      "50000/50000 [==============================] - 11s 218us/step - loss: 1.4863 - acc: 0.4665 - val_loss: 1.4431 - val_acc: 0.4887\n",
      "Epoch 49/50\n"
     ]
    },
    {
     "name": "stdout",
     "output_type": "stream",
     "text": [
      "50000/50000 [==============================] - 11s 215us/step - loss: 1.4909 - acc: 0.4673 - val_loss: 1.4617 - val_acc: 0.4798\n",
      "Epoch 50/50\n",
      "50000/50000 [==============================] - 11s 212us/step - loss: 1.4828 - acc: 0.4660 - val_loss: 1.4397 - val_acc: 0.4908\n"
     ]
    }
   ],
   "source": [
    "model = build_mlp(input_shape=x_train.shape[1:], drp_ratio=Dropout_EXP)\n",
    "model.summary()\n",
    "optimizer = keras.optimizers.Adam(lr=LEARNING_RATE)\n",
    "model.compile(loss=\"categorical_crossentropy\", metrics=[\"accuracy\"], optimizer=optimizer)\n",
    "\n",
    "model.fit(x_train, y_train, \n",
    "          epochs=EPOCHS, \n",
    "          batch_size=BATCH_SIZE, \n",
    "          validation_data=(x_test, y_test), \n",
    "          shuffle=True)\n",
    "\n",
    "# Collect results\n",
    "train_loss = model.history.history[\"loss\"]\n",
    "valid_loss = model.history.history[\"val_loss\"]\n",
    "train_acc = model.history.history[\"acc\"]\n",
    "valid_acc = model.history.history[\"val_acc\"]"
   ]
  },
  {
   "cell_type": "code",
   "execution_count": 10,
   "metadata": {},
   "outputs": [
    {
     "data": {
      "image/png": "[encoded data removed]",
      "text/plain": [
       "<Figure size 432x288 with 1 Axes>"
      ]
     },
     "metadata": {},
     "output_type": "display_data"
    },
    {
     "data": {
      "image/png": "[encoded data removed]",
      "text/plain": [
       "<Figure size 432x288 with 1 Axes>"
      ]
     },
     "metadata": {},
     "output_type": "display_data"
    }
   ],
   "source": [
    "import matplotlib.pyplot as plt\n",
    "%matplotlib inline\n",
    "\n",
    "plt.plot(range(len(train_loss)), train_loss, label=\"train loss\")\n",
    "plt.plot(range(len(valid_loss)), valid_loss, label=\"valid loss\")\n",
    "plt.legend()\n",
    "plt.title(\"Loss\")\n",
    "plt.show()\n",
    "\n",
    "plt.plot(range(len(train_acc)), train_acc, label=\"train accuracy\")\n",
    "plt.plot(range(len(valid_acc)), valid_acc, label=\"valid accuracy\")\n",
    "plt.legend()\n",
    "plt.title(\"Accuracy\")\n",
    "plt.show()"
   ]
  },
  {
   "cell_type": "code",
   "execution_count": null,
   "metadata": {},
   "outputs": [],
   "source": []
  }
 ],
 "metadata": {
  "kernelspec": {
   "display_name": "Python 3",
   "language": "python",
   "name": "python3"
  },
  "language_info": {
   "codemirror_mode": {
    "name": "ipython",
    "version": 3
   },
   "file_extension": ".py",
   "mimetype": "text/x-python",
   "name": "python",
   "nbconvert_exporter": "python",
   "pygments_lexer": "ipython3",
   "version": "3.6.7"
  }
 },
 "nbformat": 4,
 "nbformat_minor": 2
}
