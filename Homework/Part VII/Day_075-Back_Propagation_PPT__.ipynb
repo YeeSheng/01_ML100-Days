{
 "cells": [
  {
   "cell_type": "markdown",
   "metadata": {
    "colab_type": "text",
    "id": "Q8CK3DGAYiK9"
   },
   "source": [
    "# Day75-Back_Propagation_PPT範例\n",
    "\n"
   ]
  },
  {
   "cell_type": "code",
   "execution_count": 1,
   "metadata": {
    "colab": {},
    "colab_type": "code",
    "collapsed": true,
    "id": "0gYOI9R0YiK-"
   },
   "outputs": [],
   "source": [
    "#Build neural network\n",
    "class mul_layer():\n",
    "    def _ini_(self):\n",
    "        self.x = None\n",
    "        self.y = None\n",
    "    def forward(self, x, y):\n",
    "        self.x = x\n",
    "        self.y = y\n",
    "        out = x*y\n",
    "        return out\n",
    "    def backward(self, dout):\n",
    "        dx = dout * self.y\n",
    "        dy = dout * self.x\n",
    "        return dx, dy"
   ]
  },
  {
   "cell_type": "code",
   "execution_count": 2,
   "metadata": {
    "colab": {},
    "colab_type": "code",
    "collapsed": true,
    "id": "xm3MX5G8YiLD"
   },
   "outputs": [],
   "source": [
    "# Init Data\n",
    "n_X = 2\n",
    "price_Y = 100\n",
    "b_TAX = 1.1\n",
    "\n",
    "# Build _Network\n",
    "mul_fruit_layer = mul_layer()\n",
    "mul_tax_layer = mul_layer()\n"
   ]
  },
  {
   "cell_type": "code",
   "execution_count": 3,
   "metadata": {
    "colab": {},
    "colab_type": "code",
    "collapsed": true,
    "id": "p5CUr8CZYiLH"
   },
   "outputs": [],
   "source": [
    "#forward \n",
    "fruit_price = mul_fruit_layer.forward(price_Y, n_X)\n",
    "total_price = mul_tax_layer.forward(fruit_price, b_TAX)\n",
    "\n",
    "#backward \n",
    "dtotal_price = 1 #this is linear function, which y=x, dy/dx=1\n",
    "d_fruit_price, d_b_TAX = mul_tax_layer.backward(dtotal_price)\n",
    "d_price_Y, d_n_X =  mul_tax_layer.backward(d_fruit_price)"
   ]
  },
  {
   "cell_type": "code",
   "execution_count": 4,
   "metadata": {
    "colab": {},
    "colab_type": "code",
    "id": "P-9M7nsOYiLL",
    "outputId": "54d0dbfc-2dfc-4f33-f9f7-38f154ea5a27"
   },
   "outputs": [
    {
     "name": "stdout",
     "output_type": "stream",
     "text": [
      "fruit price: 200\n",
      "針對所有水果價格微分, 得到 TAX: 1.100000\n"
     ]
    }
   ],
   "source": [
    "#result\n",
    "print(\"fruit price: %i\"%fruit_price)\n",
    "print(\"針對所有水果價格微分, 得到 TAX: %2f\" %d_fruit_price)\n"
   ]
  },
  {
   "cell_type": "code",
   "execution_count": null,
   "metadata": {
    "colab": {},
    "colab_type": "code",
    "collapsed": true,
    "id": "0MN75U4NYiLT"
   },
   "outputs": [],
   "source": []
  }
 ],
 "metadata": {
  "colab": {
   "name": "Day75-Back_Propagation_PPT範例.ipynb",
   "provenance": [],
   "version": "0.3.2"
  },
  "kernelspec": {
   "display_name": "Python 3",
   "language": "python",
   "name": "python3"
  },
  "language_info": {
   "codemirror_mode": {
    "name": "ipython",
    "version": 3
   },
   "file_extension": ".py",
   "mimetype": "text/x-python",
   "name": "python",
   "nbconvert_exporter": "python",
   "pygments_lexer": "ipython3",
   "version": "3.6.5"
  }
 },
 "nbformat": 4,
 "nbformat_minor": 1
}
