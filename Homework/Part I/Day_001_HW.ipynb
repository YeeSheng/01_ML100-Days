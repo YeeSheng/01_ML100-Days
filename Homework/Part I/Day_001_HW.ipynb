{
 "cells": [
  {
   "cell_type": "markdown",
   "metadata": {},
   "source": [
    "# 參考資料\n",
    "* https://www.datacamp.com/community/blog/data-scientist-vs-data-engineer\n",
    "* https://www.zhihu.com/question/23946233\n",
    "* https://www.kdnuggets.com/2018/04/data-scientists-product-sense.html\n",
    "* https://www.kdnuggets.com/2018/04/why-data-scientists-leaving-jobs.html"
   ]
  },
  {
   "cell_type": "markdown",
   "metadata": {},
   "source": [
    "## 作業 1  請上 Kaggle, 在 Competitions 或 Dataset 中找一組競賽或資料並寫下：\n",
    "\n",
    "1. 你選的這組資料為何重要\n",
    "\n",
    "   ans: 我選擇的是華盛頓特區共享單⾞資料集，這組資料集是兩年度的單車租借人數的資料，藉由這樣的資料集\n",
    "        可以瞭解共享單車使用者的租借狀況、影響租借人數的因素，進而建立預測單車租借人數的模型…\n",
    "\n",
    "2. 資料從何而來 (tips: 譬如提供者是誰、以什麼方式蒐集)\n",
    "   \n",
    "   ans:資料來源是 Kaggle daataset https://www.kaggle.com/marklvl/bike-sharing-dataset   \n",
    "\n",
    "\n",
    "3. 蒐集而來的資料型態為何\n",
    "   \n",
    "   ans：這個資料集有兩個 CSV 格式的資料檔，分別為每日租借入數及每小時租借人數資料，這兩個資料檔的格式都算是\n",
    "       結構化的資料，資料集中有下列資訊：\n",
    "       \n",
    "        instant: Record index \n",
    "        dteday: Date\n",
    "        season: Season (1:springer, 2:summer, 3:fall, 4:winter\n",
    "        yr: Year (0: 2011, 1:2012)\n",
    "        mnth: Month (1 to 12)\n",
    "        hr: Hour (0 to 23)\n",
    "        holiday: weather day is holiday or not (extracted from Holiday Schedule)\n",
    "        weekday: Day of the week\n",
    "        workingday: If day is neither weekend nor holiday is 1, otherwise is 0.\n",
    "        weathersit: (extracted from Freemeteo)\n",
    "            1: Clear, Few clouds, Partly cloudy, Partly cloudy\n",
    "            2: Mist + Cloudy, Mist + Broken clouds, Mist + Few clouds, Mist\n",
    "            3: Light Snow, Light Rain + Thunderstorm + Scattered clouds, \n",
    "               Light Rain + Scattered clouds\n",
    "            4: Heavy Rain + Ice Pallets + Thunderstorm + Mist, Snow + Fog\n",
    "        temp: Normalized temperature in Celsius. The values are derived via \n",
    "              (t-t_min)/(t_max-t_min), t_min=-8, t_max=+39 (only in hourly scale)\n",
    "        atemp: Normalized feeling temperature in Celsius. The values are derived via \n",
    "              (t-t_min)/(t_max-t_min), t_min=-16, t_max=+50 (only in hourly scale)\n",
    "        hum: Normalized humidity. The values are divided to 100 (max)\n",
    "        windspeed: Normalized wind speed. The values are divided to 67 (max)\n",
    "        casual: count of casual users\n",
    "        registered: count of registered users\n",
    "        cnt: count of total rental bikes including both casual and registered   \n",
    "      \n",
    "\n",
    "4. 這組資料想解決的問題如何評估\n",
    "\n",
    "   ans: 這組資料集可以研究影響共享單車租借人數得因素及最終希望能建立一個預測租借人數的模型。\n",
    "        對於影響租借人數的因素的研究，我將租借人數視為 Y，各項因素視為 X，用相關分析的方式去找出\n",
    "        與租借人數正相關或負相關的項目。 接著可以針對這些因素（X）與租借人數（Y）建立迴歸模型。\n",
    "        相關分析可以用相關係數（r :-1~1) 來評估相關性的強度，回規模型可用正確率來評估模型的效能。\n",
    "        "
   ]
  },
  {
   "cell_type": "markdown",
   "metadata": {},
   "source": [
    "## 作業 2  想像你經營一個自由載客車隊，你希望能透過數據分析以提升業績，請你思考並描述你如何規劃整體的分析/解決方案：\n",
    "\n",
    "1. 核心問題為何 (tips：如何定義 「提升業績 & 你的假設」)\n",
    "\n",
    "    ans:提升業績意味著要提高載客人數人數或是乘客搭乘的里程數要大。最終要反映在營業額數目的提升及利潤的\n",
    "        增加。要提升業績可能的方向有 (1)增加載客數 (2) 增加每位客人的搭乘里程 \n",
    "        營業額的增加跟增加載客數及增加每位乘客的搭乘里程有關。利潤的增加則是跟營業額的增加與成本的降低\n",
    "        有關。基於以上的架設，必須蒐集客戶數量及會影響載客數的資料、每位乘客搭乘里程數的資料、計費資料、\n",
    "        成本資料等。        \n",
    "       \n",
    "2. 資料從何而來 (tips：哪些資料可能會對你想問的問題產生影響 & 資料如何蒐集)\n",
    "\n",
    "   ans:需要收集的資料可能有：\n",
    "    (1) 時間資料 ： 日期、時間、星期幾\n",
    "    (2) 天氣資料 ： 季節、氣象\n",
    "    (3) 乘客資料 ： 數量、性別、叫車方式\n",
    "    (4) 搭乘資料 ： 里程數、長短途、計價方式\n",
    "    (5) 汽車資料 ： 車型、司機資料、油耗、油價\n",
    "    \n",
    "    蒐集資料的方式，可分為公共資料查詢（時間、天氣油價），特別資料搜集（車型、油耗、油價、叫車紀錄、\n",
    "    派車記錄）    \n",
    "   \n",
    "   \n",
    "3. 蒐集而來的資料型態為何 \n",
    "\n",
    "    ans:蒐集的資料的類型會包含類別型資料、計數值資料、計量值資料、時間序列資料\n",
    "\n",
    "\n",
    "4. 你要回答的問題，其如何評估 (tips：你的假設如何驗證) \n",
    "\n",
    "   ans:用相關分析，找出影響營業額（Y）相關的因素（X)，建立 X與Y的回歸預測模型並優化可控的影響因素，\n",
    "       再用未來的實際搭乘紀錄執行預測與驗證模型準確度…\n",
    "\n"
   ]
  },
  {
   "cell_type": "markdown",
   "metadata": {},
   "source": [
    "## 作業 3 請點選檢視範例依照 Day_001_example_of_metrics.ipynb 完成 Mean Squared Error 的函式"
   ]
  },
  {
   "cell_type": "markdown",
   "metadata": {},
   "source": [
    "## 練習時間\n",
    "#### 請寫一個函式用來計算 Mean Square Error\n",
    "$ MSE = \\frac{1}{n}\\sum_{i=1}^{n}{(Y_i - \\hat{Y}_i)^2} $\n",
    "\n",
    "$ MAE = \\frac{1}{n}\\sum_{i=1}^{n}|{(Y_i - \\hat{Y}_i)}| $\n",
    "\n",
    "### Hint: [如何取平方](https://googoodesign.gitbooks.io/-ezpython/unit-1.html)"
   ]
  },
  {
   "cell_type": "code",
   "execution_count": 44,
   "metadata": {},
   "outputs": [],
   "source": [
    "import numpy as np\n",
    "import matplotlib.pyplot as plt\n",
    "from sklearn.metrics import mean_squared_error,mean_absolute_error"
   ]
  },
  {
   "cell_type": "code",
   "execution_count": 40,
   "metadata": {},
   "outputs": [],
   "source": [
    "def Pmean_absolute_error(y, yp):\n",
    "    \"\"\"\n",
    "    計算 MAE\n",
    "    Args:\n",
    "        - y: 實際值\n",
    "        - yp: 預測值\n",
    "    Return:\n",
    "        - mae: MAE\n",
    "    \"\"\"\n",
    "    mae = MAE = np.mean(abs(y - yp))\n",
    "    return mae\n"
   ]
  },
  {
   "cell_type": "code",
   "execution_count": 41,
   "metadata": {},
   "outputs": [],
   "source": [
    "def Pmean_squared_error(y, yp):\n",
    "    \"\"\"\n",
    "    計算 MSE\n",
    "    Args:\n",
    "        - y: 實際值\n",
    "        - yp: 預測值\n",
    "    Return:\n",
    "        - mse: MSE\n",
    "    \"\"\"\n",
    "    mse = MSE = np.mean((y - yp)**2)\n",
    "    return mse\n"
   ]
  },
  {
   "cell_type": "code",
   "execution_count": 47,
   "metadata": {},
   "outputs": [
    {
     "data": {
      "image/png": "[encoded data removed]",
      "text/plain": [
       "<Figure size 432x288 with 1 Axes>"
      ]
     },
     "metadata": {
      "needs_background": "light"
     },
     "output_type": "display_data"
    }
   ],
   "source": [
    "w = 3\n",
    "b = 0.5\n",
    "\n",
    "x_lin = np.linspace(0, 100, 101)\n",
    "\n",
    "y = (x_lin + np.random.randn(101) * 5) * w + b\n",
    "\n",
    "plt.plot(x_lin, y, 'b.', label = 'data points')\n",
    "plt.title(\"Assume we have data points\")\n",
    "plt.legend(loc = 2)\n",
    "plt.show()"
   ]
  },
  {
   "cell_type": "code",
   "execution_count": 39,
   "metadata": {},
   "outputs": [
    {
     "data": {
      "image/png": "[encoded data removed]",
      "text/plain": [
       "<Figure size 432x288 with 1 Axes>"
      ]
     },
     "metadata": {
      "needs_background": "light"
     },
     "output_type": "display_data"
    }
   ],
   "source": [
    "y_hat = x_lin * w + b\n",
    "plt.plot(x_lin, y, 'b.', label = 'data')\n",
    "plt.plot(x_lin, y_hat, 'r-', label = 'prediction')\n",
    "plt.title(\"Assume we have data points (And the prediction)\")\n",
    "plt.legend(loc = 2)\n",
    "plt.show()"
   ]
  },
  {
   "cell_type": "code",
   "execution_count": 50,
   "metadata": {},
   "outputs": [
    {
     "name": "stdout",
     "output_type": "stream",
     "text": [
      "The Mean squared error(MSE) of python code is 239.175\n",
      "The Mean absolute error(MAE) of python code is 12.345\n"
     ]
    }
   ],
   "source": [
    "# 執行 Function, 確認有沒有正常執行  (以 python 程式碼計算)\n",
    "\n",
    "MSE = Pmean_squared_error(y, y_hat)\n",
    "MAE = Pmean_absolute_error(y, y_hat)\n",
    "print(f'The Mean squared error(MSE) of python code is {MSE :.3f}')\n",
    "print(f'The Mean absolute error(MAE) of python code is {MAE:.3f}')"
   ]
  },
  {
   "cell_type": "code",
   "execution_count": 51,
   "metadata": {},
   "outputs": [
    {
     "name": "stdout",
     "output_type": "stream",
     "text": [
      "The Mean squared error(MSE) of sklearn module is 239.175\n",
      "The Mean absolute error(MAE) of sklearn module is 12.345\n"
     ]
    }
   ],
   "source": [
    "# 執行 Function, 確認有沒有正常執行  (以 sklearn 套件的模組驗證)\n",
    "\n",
    "MSE=mean_squared_error(y, y_hat)\n",
    "MAE=mean_absolute_error(y, y_hat)\n",
    "print(f'The Mean squared error(MSE) of sklearn module is {MSE :.3f}')\n",
    "print(f'The Mean absolute error(MAE) of sklearn module is {MAE:.3f}')"
   ]
  },
  {
   "cell_type": "code",
   "execution_count": null,
   "metadata": {},
   "outputs": [],
   "source": []
  }
 ],
 "metadata": {
  "anaconda-cloud": {},
  "kernelspec": {
   "display_name": "Python 3",
   "language": "python",
   "name": "python3"
  },
  "language_info": {
   "codemirror_mode": {
    "name": "ipython",
    "version": 3
   },
   "file_extension": ".py",
   "mimetype": "text/x-python",
   "name": "python",
   "nbconvert_exporter": "python",
   "pygments_lexer": "ipython3",
   "version": "3.7.3"
  }
 },
 "nbformat": 4,
 "nbformat_minor": 1
}
