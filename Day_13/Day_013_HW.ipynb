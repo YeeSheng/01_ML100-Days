{
 "cells": [
  {
   "cell_type": "code",
   "execution_count": 1,
   "metadata": {},
   "outputs": [],
   "source": [
    "# Import 需要的套件\n",
    "import os\n",
    "import numpy as np\n",
    "import pandas as pd\n",
    "\n",
    "import matplotlib.pyplot as plt\n",
    "%matplotlib inline"
   ]
  },
  {
   "cell_type": "code",
   "execution_count": 2,
   "metadata": {},
   "outputs": [],
   "source": [
    "# 設定 data_path\n",
    "dir_data = './data/'\n",
    "f_app_train = os.path.join(dir_data, 'application_train.csv')\n",
    "f_app_test = os.path.join(dir_data, 'application_test.csv')\n",
    "\n",
    "app_train = pd.read_csv(f_app_train)\n",
    "app_test = pd.read_csv(f_app_test)\n",
    "\n",
    "from sklearn.preprocessing import LabelEncoder\n",
    "\n",
    "# Create a label encoder object\n",
    "le = LabelEncoder()\n",
    "le_count = 0\n",
    "\n",
    "# Iterate through the columns\n",
    "for col in app_train:\n",
    "    if app_train[col].dtype == 'object':\n",
    "        # If 2 or fewer unique categories\n",
    "        if len(list(app_train[col].unique())) <= 2:\n",
    "            # Train on the training data\n",
    "            le.fit(app_train[col])\n",
    "            # Transform both training and testing data\n",
    "            app_train[col] = le.transform(app_train[col])\n",
    "            app_test[col] = le.transform(app_test[col])\n",
    "            \n",
    "            # Keep track of how many columns were label encoded\n",
    "            le_count += 1\n",
    "            \n",
    "app_train = pd.get_dummies(app_train)\n",
    "app_test = pd.get_dummies(app_test)\n",
    "\n",
    "# Create an anomalous flag column\n",
    "app_train['DAYS_EMPLOYED_ANOM'] = app_train[\"DAYS_EMPLOYED\"] == 365243\n",
    "app_train['DAYS_EMPLOYED'].replace({365243: np.nan}, inplace = True)\n",
    "# also apply to testing dataset\n",
    "app_test['DAYS_EMPLOYED_ANOM'] = app_test[\"DAYS_EMPLOYED\"] == 365243\n",
    "app_test[\"DAYS_EMPLOYED\"].replace({365243: np.nan}, inplace = True)\n",
    "\n",
    "# absolute the value of DAYS_BIRTH\n",
    "app_train['DAYS_BIRTH'] = abs(app_train['DAYS_BIRTH'])\n",
    "app_test['DAYS_BIRTH'] = abs(app_test['DAYS_BIRTH'])"
   ]
  },
  {
   "cell_type": "code",
   "execution_count": 12,
   "metadata": {},
   "outputs": [],
   "source": [
    "ages = pd.DataFrame({\"age\": [18,22,25,27,21,23,37,31,61,45,41,100]})"
   ]
  },
  {
   "cell_type": "markdown",
   "metadata": {},
   "source": [
    "### 等寬劃分"
   ]
  },
  {
   "cell_type": "code",
   "execution_count": 16,
   "metadata": {},
   "outputs": [
    {
     "data": {
      "text/plain": [
       "(12811.0, 14585.0]    41758\n",
       "(14585.0, 16359.0]    40350\n",
       "(11037.0, 12811.0]    38430\n",
       "(16359.0, 18133.0]    34335\n",
       "(18133.0, 19907.0]    33546\n",
       "(9263.0, 11037.0]     33120\n",
       "(19907.0, 21681.0]    32635\n",
       "(21681.0, 23455.0]    27687\n",
       "(7471.26, 9263.0]     13686\n",
       "(23455.0, 25229.0]    11964\n",
       "Name: equal_DAYS_BIRTH, dtype: int64"
      ]
     },
     "execution_count": 16,
     "metadata": {},
     "output_type": "execute_result"
    }
   ],
   "source": [
    "#等寬劃分\n",
    "app_train['equal_DAYS_BIRTH'] = pd.cut(app_train['DAYS_BIRTH'], 10)\n",
    "app_train['equal_DAYS_BIRTH'].value_counts()"
   ]
  },
  {
   "cell_type": "code",
   "execution_count": 17,
   "metadata": {
    "scrolled": true
   },
   "outputs": [
    {
     "data": {
      "text/plain": [
       "(12811.0, 14585.0]    41758\n",
       "(14585.0, 16359.0]    40350\n",
       "(11037.0, 12811.0]    38430\n",
       "(16359.0, 18133.0]    34335\n",
       "(18133.0, 19907.0]    33546\n",
       "(9263.0, 11037.0]     33120\n",
       "(19907.0, 21681.0]    32635\n",
       "(21681.0, 23455.0]    27687\n",
       "(7471.26, 9263.0]     13686\n",
       "(23455.0, 25229.0]    11964\n",
       "Name: equal_DAYS_BIRTH, dtype: int64"
      ]
     },
     "execution_count": 17,
     "metadata": {},
     "output_type": "execute_result"
    }
   ],
   "source": [
    "app_train['equal_freq_DAYS_BIRTH'] = pd.qcut(app_train['DAYS_BIRTH'], 10)\n",
    "app_train['equal_DAYS_BIRTH'].value_counts()"
   ]
  },
  {
   "cell_type": "code",
   "execution_count": 18,
   "metadata": {},
   "outputs": [],
   "source": [
    "customized_DAYS_BIRTH_list = np.linspace(app_train[\"DAYS_BIRTH\"].min(),app_train[\"DAYS_BIRTH\"].max(),15)\n",
    "app_train[\"customized_DAYS_BIRTH_grp\"] = pd.cut(app_train[\"DAYS_BIRTH\"], customized_DAYS_BIRTH_list)"
   ]
  },
  {
   "cell_type": "code",
   "execution_count": 19,
   "metadata": {},
   "outputs": [
    {
     "data": {
      "text/plain": [
       "(13824.714, 15091.857]    30289\n",
       "(12557.571, 13824.714]    28797\n",
       "(15091.857, 16359.0]      28453\n",
       "(10023.286, 11290.429]    27627\n",
       "(11290.429, 12557.571]    27515\n",
       "(18893.286, 20160.429]    24968\n",
       "(16359.0, 17626.143]      24913\n",
       "(17626.143, 18893.286]    23145\n",
       "(20160.429, 21427.571]    22973\n",
       "(21427.571, 22694.714]    21143\n",
       "(22694.714, 23961.857]    17015\n",
       "(8756.143, 10023.286]     16460\n",
       "(7489.0, 8756.143]         8202\n",
       "(23961.857, 25229.0]       6010\n",
       "Name: customized_DAYS_BIRTH_grp, dtype: int64"
      ]
     },
     "execution_count": 19,
     "metadata": {},
     "output_type": "execute_result"
    }
   ],
   "source": [
    "app_train[\"customized_DAYS_BIRTH_grp\"].value_counts()"
   ]
  },
  {
   "cell_type": "code",
   "execution_count": null,
   "metadata": {},
   "outputs": [],
   "source": []
  }
 ],
 "metadata": {
  "kernelspec": {
   "display_name": "Python 3",
   "language": "python",
   "name": "python3"
  },
  "language_info": {
   "codemirror_mode": {
    "name": "ipython",
    "version": 3
   },
   "file_extension": ".py",
   "mimetype": "text/x-python",
   "name": "python",
   "nbconvert_exporter": "python",
   "pygments_lexer": "ipython3",
   "version": "3.6.5"
  }
 },
 "nbformat": 4,
 "nbformat_minor": 2
}
